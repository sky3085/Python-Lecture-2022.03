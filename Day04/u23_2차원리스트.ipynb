{
 "cells": [
  {
   "cell_type": "markdown",
   "metadata": {},
   "source": [
    "### Unit 23. 2차원 리스트\n",
    "#### 23.1 2차원 리스트 만들고 요소에 접근하기"
   ]
  },
  {
   "cell_type": "code",
   "execution_count": 1,
   "metadata": {},
   "outputs": [
    {
     "data": {
      "text/plain": [
       "[[10, 20], [30, 40], [50, 60]]"
      ]
     },
     "execution_count": 1,
     "metadata": {},
     "output_type": "execute_result"
    }
   ],
   "source": [
    "a=[[10,20],[30,40],[50,60]]\n",
    "a"
   ]
  },
  {
   "cell_type": "code",
   "execution_count": 2,
   "metadata": {},
   "outputs": [
    {
     "name": "stdout",
     "output_type": "stream",
     "text": [
      "[[10, 20],\n",
      " [30, 40],\n",
      " [50, 60]]\n"
     ]
    }
   ],
   "source": [
    "from pprint import pprint\n",
    "pprint(a, indent=1, width=20)"
   ]
  },
  {
   "cell_type": "code",
   "execution_count": 4,
   "metadata": {},
   "outputs": [
    {
     "data": {
      "text/plain": [
       "array([[10, 20],\n",
       "       [30, 40],\n",
       "       [50, 60]])"
      ]
     },
     "execution_count": 4,
     "metadata": {},
     "output_type": "execute_result"
    }
   ],
   "source": [
    "#2차원 행렬을 만들땐 numpy pandas를 주로 사용한다.\n",
    "import numpy as np\n",
    "b = np.arange(1,7).reshape(3,2)*10\n",
    "b"
   ]
  },
  {
   "cell_type": "code",
   "execution_count": 5,
   "metadata": {},
   "outputs": [
    {
     "data": {
      "text/html": [
       "<div>\n",
       "<style scoped>\n",
       "    .dataframe tbody tr th:only-of-type {\n",
       "        vertical-align: middle;\n",
       "    }\n",
       "\n",
       "    .dataframe tbody tr th {\n",
       "        vertical-align: top;\n",
       "    }\n",
       "\n",
       "    .dataframe thead th {\n",
       "        text-align: right;\n",
       "    }\n",
       "</style>\n",
       "<table border=\"1\" class=\"dataframe\">\n",
       "  <thead>\n",
       "    <tr style=\"text-align: right;\">\n",
       "      <th></th>\n",
       "      <th>첫째 열</th>\n",
       "      <th>둘째 열</th>\n",
       "    </tr>\n",
       "  </thead>\n",
       "  <tbody>\n",
       "    <tr>\n",
       "      <th>0</th>\n",
       "      <td>10</td>\n",
       "      <td>20</td>\n",
       "    </tr>\n",
       "    <tr>\n",
       "      <th>1</th>\n",
       "      <td>30</td>\n",
       "      <td>40</td>\n",
       "    </tr>\n",
       "    <tr>\n",
       "      <th>2</th>\n",
       "      <td>50</td>\n",
       "      <td>60</td>\n",
       "    </tr>\n",
       "  </tbody>\n",
       "</table>\n",
       "</div>"
      ],
      "text/plain": [
       "   첫째 열  둘째 열\n",
       "0    10    20\n",
       "1    30    40\n",
       "2    50    60"
      ]
     },
     "execution_count": 5,
     "metadata": {},
     "output_type": "execute_result"
    }
   ],
   "source": [
    "import pandas as pd\n",
    "df = pd.DataFrame(b, columns=['첫째 열', '둘째 열'])\n",
    "df"
   ]
  },
  {
   "cell_type": "markdown",
   "metadata": {},
   "source": [
    "- 인덱싱"
   ]
  },
  {
   "cell_type": "code",
   "execution_count": 8,
   "metadata": {},
   "outputs": [
    {
     "data": {
      "text/plain": [
       "(60, 60)"
      ]
     },
     "execution_count": 8,
     "metadata": {},
     "output_type": "execute_result"
    }
   ],
   "source": [
    "a[2][1], a[2][-1]#리스트 인덱싱 [행 인덱스][열 인덱스]"
   ]
  },
  {
   "cell_type": "code",
   "execution_count": 9,
   "metadata": {},
   "outputs": [
    {
     "data": {
      "text/plain": [
       "(60, 60)"
      ]
     },
     "execution_count": 9,
     "metadata": {},
     "output_type": "execute_result"
    }
   ],
   "source": [
    "b[2,1], b[-1,-1] # numpy의 array 인덱싱 [행 인덱스, 열 인덱스]"
   ]
  },
  {
   "cell_type": "code",
   "execution_count": 10,
   "metadata": {},
   "outputs": [
    {
     "data": {
      "text/plain": [
       "60"
      ]
     },
     "execution_count": 10,
     "metadata": {},
     "output_type": "execute_result"
    }
   ],
   "source": [
    "df['둘째 열'][2] # 데이터프레임 인덱싱 [열][행]"
   ]
  },
  {
   "cell_type": "markdown",
   "metadata": {},
   "source": [
    "- 톱니형 리스트"
   ]
  },
  {
   "cell_type": "code",
   "execution_count": 12,
   "metadata": {},
   "outputs": [
    {
     "data": {
      "text/plain": [
       "[[10, 20], [500, 600, 700], [9]]"
      ]
     },
     "execution_count": 12,
     "metadata": {},
     "output_type": "execute_result"
    }
   ],
   "source": [
    "a=[[10, 20],\n",
    "[500, 600, 700],\n",
    "[9]]\n",
    "a#각 인덱스에 들어있는 리스트의 길이가 다르다."
   ]
  },
  {
   "cell_type": "markdown",
   "metadata": {},
   "source": [
    "#### 23.2 반복문과 2차원 리스트"
   ]
  },
  {
   "cell_type": "code",
   "execution_count": 13,
   "metadata": {},
   "outputs": [
    {
     "name": "stdout",
     "output_type": "stream",
     "text": [
      "10 20 \n",
      "500 600 700 \n",
      "9 \n"
     ]
    }
   ],
   "source": [
    "for row in a:\n",
    "    for e in row:\n",
    "        print(e, end=' ')\n",
    "    print()"
   ]
  },
  {
   "cell_type": "code",
   "execution_count": 15,
   "metadata": {},
   "outputs": [
    {
     "data": {
      "text/plain": [
       "3"
      ]
     },
     "execution_count": 15,
     "metadata": {},
     "output_type": "execute_result"
    }
   ],
   "source": [
    "len(a)#리스트 길이, 리스트도 원소 하나다."
   ]
  },
  {
   "cell_type": "code",
   "execution_count": 16,
   "metadata": {},
   "outputs": [
    {
     "name": "stdout",
     "output_type": "stream",
     "text": [
      "10 20 \n",
      "500 600 700 \n",
      "9 \n"
     ]
    }
   ],
   "source": [
    "for i in range(len(a)):\n",
    "    for k in range(len(a[i])):\n",
    "        print(a[i][k], end=' ')\n",
    "    print()"
   ]
  },
  {
   "cell_type": "markdown",
   "metadata": {},
   "source": [
    "#### 23.3 반복문으로 리스트 만들기"
   ]
  },
  {
   "cell_type": "code",
   "execution_count": 17,
   "metadata": {},
   "outputs": [
    {
     "name": "stdout",
     "output_type": "stream",
     "text": [
      "10 11 \n",
      "20 21 \n",
      "30 31 \n"
     ]
    }
   ],
   "source": [
    "for i in range(3):\n",
    "    for k in range(2):\n",
    "        print(10*(i+1)+k, end=' ')\n",
    "    print()"
   ]
  },
  {
   "cell_type": "code",
   "execution_count": 18,
   "metadata": {},
   "outputs": [
    {
     "name": "stdout",
     "output_type": "stream",
     "text": [
      "[[10, 11],\n",
      " [20, 21],\n",
      " [30, 31]]\n"
     ]
    }
   ],
   "source": [
    "outer_list = []\n",
    "for i in range(3):\n",
    "    inner_list=[]\n",
    "    for k in range(2):\n",
    "        inner_list.append(10*(i+1)+k)\n",
    "    outer_list.append(inner_list)\n",
    "\n",
    "pprint(outer_list, indent=1, width=20)"
   ]
  },
  {
   "cell_type": "code",
   "execution_count": 19,
   "metadata": {},
   "outputs": [
    {
     "data": {
      "text/plain": [
       "[[0, 1, 2], [10, 11, 12], [20, 21, 22]]"
      ]
     },
     "execution_count": 19,
     "metadata": {},
     "output_type": "execute_result"
    }
   ],
   "source": [
    "#리스트 표현식\n",
    "l = [[10*i+k for k in range(3)] for i in range(3)]\n",
    "l"
   ]
  },
  {
   "cell_type": "code",
   "execution_count": 24,
   "metadata": {},
   "outputs": [
    {
     "data": {
      "text/plain": [
       "[[1, 2, 3, 4], [11, 12, 13, 14], [21, 22, 23, 24]]"
      ]
     },
     "execution_count": 24,
     "metadata": {},
     "output_type": "execute_result"
    }
   ],
   "source": [
    "l = []\n",
    "for i in range(0,3):\n",
    "    l_s =[]\n",
    "    for k in range(0, 4):\n",
    "        l_s.append(10*i+k+1)\n",
    "    l.append(l_s)\n",
    "l"
   ]
  },
  {
   "cell_type": "code",
   "execution_count": 25,
   "metadata": {},
   "outputs": [
    {
     "data": {
      "text/plain": [
       "[[1, 2, 3, 4], [11, 12, 13, 14], [21, 22, 23, 24]]"
      ]
     },
     "execution_count": 25,
     "metadata": {},
     "output_type": "execute_result"
    }
   ],
   "source": [
    "l= [[10*i+k+1 for k in range(4)] for i in range(3)]\n",
    "l"
   ]
  },
  {
   "cell_type": "code",
   "execution_count": 28,
   "metadata": {},
   "outputs": [
    {
     "data": {
      "text/plain": [
       "[[0, 1, 2], [1, 2, 3]]"
      ]
     },
     "execution_count": 28,
     "metadata": {},
     "output_type": "execute_result"
    }
   ],
   "source": [
    "# 연습\n",
    "l= [[i+k for k in range(3)] for i in range(2)]\n",
    "l"
   ]
  },
  {
   "cell_type": "markdown",
   "metadata": {},
   "source": [
    "#### 2차원 리스트의 할당과 복사"
   ]
  },
  {
   "cell_type": "code",
   "execution_count": 30,
   "metadata": {},
   "outputs": [
    {
     "data": {
      "text/plain": [
       "([[0, 0], [1, 10], [2, 2]], [[0, 0], [1, 10], [2, 2]])"
      ]
     },
     "execution_count": 30,
     "metadata": {},
     "output_type": "execute_result"
    }
   ],
   "source": [
    "a= [[0,0], [1,1], [2,2]]\n",
    "b = a.copy()#얕은 복사\n",
    "b[1][1] = 10\n",
    "a, b"
   ]
  },
  {
   "cell_type": "code",
   "execution_count": 31,
   "metadata": {},
   "outputs": [
    {
     "data": {
      "text/plain": [
       "([[0, 0], [1, 1], [2, 2]], [[0, 0], [1, 30], [2, 2]])"
      ]
     },
     "execution_count": 31,
     "metadata": {},
     "output_type": "execute_result"
    }
   ],
   "source": [
    "import copy\n",
    "a= [[0,0], [1,1], [2,2]]\n",
    "b = copy.deepcopy(a)#깊은 복사\n",
    "b[1][1]=30\n",
    "a, b"
   ]
  },
  {
   "cell_type": "code",
   "execution_count": 40,
   "metadata": {},
   "outputs": [
    {
     "data": {
      "text/plain": [
       "[['*', '.'], ['*', '*']]"
      ]
     },
     "execution_count": 40,
     "metadata": {},
     "output_type": "execute_result"
    }
   ],
   "source": [
    "# 23 심사문제\n",
    "col, row = map(int, input().split())\n",
    "matrix = []\n",
    "for i in range(row):\n",
    "    matrix.append(list(input()))\n",
    "matrix\n",
    "\n",
    "for i in range(col):\n",
    "    for k in range(row):\n",
    "        if(matrix[col][row]=='.'):\n",
    "            pass\n",
    "\n",
    "\n",
    "\n"
   ]
  },
  {
   "cell_type": "code",
   "execution_count": 45,
   "metadata": {},
   "outputs": [
    {
     "data": {
      "text/plain": [
       "[2, 8, 16, 32, 64, 128, 256, 1024]"
      ]
     },
     "execution_count": 45,
     "metadata": {},
     "output_type": "execute_result"
    }
   ],
   "source": [
    "# 22 심사문제\n",
    "a1, b1 = map(int, input().split())\n",
    "l = [2**a1 for a1 in range(a1, b1+1)]\n",
    "l.pop(1)\n",
    "l.pop(-2)\n",
    "l"
   ]
  },
  {
   "cell_type": "code",
   "execution_count": 47,
   "metadata": {},
   "outputs": [
    {
     "name": "stdout",
     "output_type": "stream",
     "text": [
      "200 375 425\n"
     ]
    }
   ],
   "source": [
    "# 연습문제\n",
    "# a+b+c = 1000; a< b<c 이고, a*a+b*b=c*c를 만족하는 abc는?\n",
    "for a in range(1, 333):\n",
    "    for b in range(a+1, 500):\n",
    "        c=1000-a-b    \n",
    "        if(a*a+b*b==c*c):\n",
    "            print(a, b, c)\n",
    "        else :\n",
    "            continue"
   ]
  },
  {
   "cell_type": "code",
   "execution_count": null,
   "metadata": {},
   "outputs": [],
   "source": []
  }
 ],
 "metadata": {
  "interpreter": {
   "hash": "0094501f3b0006488e906d4f89333eda809204133ac7d3552e2d5dc9af9e2d58"
  },
  "kernelspec": {
   "display_name": "Python 3.9.7 ('base')",
   "language": "python",
   "name": "python3"
  },
  "language_info": {
   "codemirror_mode": {
    "name": "ipython",
    "version": 3
   },
   "file_extension": ".py",
   "mimetype": "text/x-python",
   "name": "python",
   "nbconvert_exporter": "python",
   "pygments_lexer": "ipython3",
   "version": "3.9.7"
  },
  "orig_nbformat": 4
 },
 "nbformat": 4,
 "nbformat_minor": 2
}
