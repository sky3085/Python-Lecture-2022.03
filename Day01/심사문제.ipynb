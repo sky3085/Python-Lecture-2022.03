{
 "cells": [
  {
   "cell_type": "code",
   "execution_count": null,
   "metadata": {},
   "outputs": [],
   "source": [
    "#Unit 5\n",
    "print(102*0.6+225)"
   ]
  },
  {
   "cell_type": "code",
   "execution_count": 2,
   "metadata": {},
   "outputs": [
    {
     "name": "stdout",
     "output_type": "stream",
     "text": [
      "15.0\n"
     ]
    }
   ],
   "source": [
    "#Unit 6\n",
    "a = list(map(int, input().split(\" \")))\n",
    "print(sum(a)/len(a))\n",
    "\n",
    "# 다른 정답\n",
    "# kor, eng, mat, sci = map(int, input().split())\n",
    "# print((kor+eng+mat+sci)//4)"
   ]
  },
  {
   "cell_type": "code",
   "execution_count": 9,
   "metadata": {},
   "outputs": [
    {
     "name": "stdout",
     "output_type": "stream",
     "text": [
      "2022-3-24T 2022-03-24T\n",
      "2022-03-24 09:56:16.379747\n",
      "2022-03\n"
     ]
    }
   ],
   "source": [
    "#Unit 7\n",
    "year, month, day = 2022, 3, 24\n",
    "print(year,month,day,sep='-',end='T ')\n",
    "print(f'{year}-{month:02d}-{day:02d}T')\n",
    "#실제론 datetime을 import시켜 사용한다.\n",
    "#from pytz import datetime\n",
    "import datetime\n",
    "now= datetime.datetime.now()\n",
    "print(now)\n",
    "#예전 방식\n",
    "print(\"%04d-%02d\" % (year, month))"
   ]
  },
  {
   "cell_type": "code",
   "execution_count": 10,
   "metadata": {},
   "outputs": [
    {
     "name": "stdout",
     "output_type": "stream",
     "text": [
      "False\n",
      "False\n"
     ]
    }
   ],
   "source": [
    "# Unit 8\n",
    "kor, eng, math, sc = map(int, input().split(\" \"))\n",
    "if(kor >= 90 and eng > 80 and math > 85 and sc >= 80):\n",
    "    print(True)\n",
    "else:\n",
    "    print(False)\n",
    "# 다른 방법\n",
    "result = (kor >= 90 and eng > 80 and math > 85 and sc >= 80)\n",
    "print(result)\n",
    "        "
   ]
  },
  {
   "cell_type": "code",
   "execution_count": null,
   "metadata": {},
   "outputs": [],
   "source": []
  }
 ],
 "metadata": {
  "interpreter": {
   "hash": "27cc1592400a49e29347d731bddc25ead99330001d369613af25ccd9674a593a"
  },
  "kernelspec": {
   "display_name": "Python 3.9.7 ('base')",
   "language": "python",
   "name": "python3"
  },
  "language_info": {
   "codemirror_mode": {
    "name": "ipython",
    "version": 3
   },
   "file_extension": ".py",
   "mimetype": "text/x-python",
   "name": "python",
   "nbconvert_exporter": "python",
   "pygments_lexer": "ipython3",
   "version": "3.7.8"
  },
  "orig_nbformat": 4
 },
 "nbformat": 4,
 "nbformat_minor": 2
}
