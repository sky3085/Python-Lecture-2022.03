{
 "cells": [
  {
   "cell_type": "markdown",
   "metadata": {},
   "source": [
    "### Unit 38 예외처리 사용하기.\n",
    "#### 38.1 try except"
   ]
  },
  {
   "cell_type": "code",
   "execution_count": 1,
   "metadata": {},
   "outputs": [
    {
     "name": "stdout",
     "output_type": "stream",
     "text": [
      "예외가 발생했습니다.\n"
     ]
    }
   ],
   "source": [
    "try:\n",
    "    x=int(input('나눌 숫자 : '))\n",
    "    y=10/x\n",
    "    print(y)\n",
    "except:\n",
    "    print('예외가 발생했습니다.')\n"
   ]
  },
  {
   "cell_type": "code",
   "execution_count": 2,
   "metadata": {},
   "outputs": [
    {
     "name": "stdout",
     "output_type": "stream",
     "text": [
      "숫자를 0으로 나눌 수 없습니다.\n"
     ]
    }
   ],
   "source": [
    "y = [10, 20, 30]\n",
    " \n",
    "try:\n",
    "    index, x = map(int, input('인덱스와 나눌 숫자를 입력하세요: ').split())\n",
    "    print(y[index] / x)\n",
    "except ZeroDivisionError:    # 숫자를 0으로 나눠서 에러가 발생했을 때 실행됨\n",
    "    print('숫자를 0으로 나눌 수 없습니다.')\n",
    "except IndexError:           # 범위를 벗어난 인덱스에 접근하여 에러가 발생했을 때 실행됨\n",
    "    print('잘못된 인덱스입니다.')"
   ]
  },
  {
   "cell_type": "code",
   "execution_count": 3,
   "metadata": {},
   "outputs": [
    {
     "name": "stdout",
     "output_type": "stream",
     "text": [
      "숫자를 0으로 나눌 수 없습니다. division by zero\n"
     ]
    }
   ],
   "source": [
    "y = [10, 20, 30]\n",
    " \n",
    "try:\n",
    "    index, x = map(int, input('인덱스와 나눌 숫자를 입력하세요: ').split())\n",
    "    print(y[index] / x)\n",
    "except ZeroDivisionError as e:                    # as 뒤에 변수를 지정하면 에러를 받아옴\n",
    "    print('숫자를 0으로 나눌 수 없습니다.', e)    # e에 저장된 에러 메시지 출력\n",
    "except IndexError as e:\n",
    "    print('잘못된 인덱스입니다.', e)"
   ]
  },
  {
   "cell_type": "markdown",
   "metadata": {},
   "source": [
    "#### 38.2 else 와 finally 사용하기\n",
    "<pre>try:\n",
    "    실행할 코드\n",
    "except:\n",
    "    예외가 발생했을 때 처리하는 코드\n",
    "else:\n",
    "    예외가 발생하지 않았을 때 실행할 코드\n",
    "finally:\n",
    "    예외 발생 여부와 상관없이 항상 실행할 코드</pre>"
   ]
  },
  {
   "cell_type": "code",
   "execution_count": 5,
   "metadata": {},
   "outputs": [
    {
     "name": "stdout",
     "output_type": "stream",
     "text": [
      "5.0\n"
     ]
    }
   ],
   "source": [
    "try:\n",
    "    x=int(input())\n",
    "    y=100/x\n",
    "except Exception as e :\n",
    "    print(e)\n",
    "else:\n",
    "    print(y)"
   ]
  },
  {
   "cell_type": "code",
   "execution_count": 7,
   "metadata": {},
   "outputs": [
    {
     "name": "stdout",
     "output_type": "stream",
     "text": [
      "division by zero\n",
      "0 x의 값입니다. 코드실행 종료\n"
     ]
    }
   ],
   "source": [
    "try:\n",
    "    x=int(input())\n",
    "    y=100/x\n",
    "except Exception as e :\n",
    "    print(e)\n",
    "else:\n",
    "    print(y)\n",
    "finally:\n",
    "    print(x, 'x의 값입니다. 코드실행 종료')"
   ]
  },
  {
   "cell_type": "markdown",
   "metadata": {},
   "source": [
    "#### 38.3 예외 발생시키기 rasie"
   ]
  },
  {
   "cell_type": "code",
   "execution_count": 8,
   "metadata": {},
   "outputs": [
    {
     "name": "stdout",
     "output_type": "stream",
     "text": [
      "예외가 발생했습니다. 3의 배수가 아닙니다.\n"
     ]
    }
   ],
   "source": [
    "try:\n",
    "    x = int(input('3의 배수를 입력하세요: '))\n",
    "    if x % 3 != 0:                                 # x가 3의 배수가 아니면\n",
    "        raise Exception('3의 배수가 아닙니다.')    # 예외를 발생시킴\n",
    "    print(x)\n",
    "except Exception as e:                             # 예외가 발생했을 때 실행됨\n",
    "    print('예외가 발생했습니다.', e)"
   ]
  },
  {
   "cell_type": "code",
   "execution_count": 9,
   "metadata": {},
   "outputs": [
    {
     "ename": "AssertionError",
     "evalue": "3의 배수가 아닙니다.",
     "output_type": "error",
     "traceback": [
      "\u001b[1;31m---------------------------------------------------------------------------\u001b[0m",
      "\u001b[1;31mAssertionError\u001b[0m                            Traceback (most recent call last)",
      "\u001b[1;32m~\\AppData\\Local\\Temp/ipykernel_16868/2667772983.py\u001b[0m in \u001b[0;36m<module>\u001b[1;34m\u001b[0m\n\u001b[0;32m      1\u001b[0m \u001b[1;31m# assert\u001b[0m\u001b[1;33m\u001b[0m\u001b[1;33m\u001b[0m\u001b[0m\n\u001b[0;32m      2\u001b[0m \u001b[0mx\u001b[0m \u001b[1;33m=\u001b[0m \u001b[0mint\u001b[0m\u001b[1;33m(\u001b[0m\u001b[0minput\u001b[0m\u001b[1;33m(\u001b[0m\u001b[1;34m'3의 배수를 입력하세요: '\u001b[0m\u001b[1;33m)\u001b[0m\u001b[1;33m)\u001b[0m\u001b[1;33m\u001b[0m\u001b[1;33m\u001b[0m\u001b[0m\n\u001b[1;32m----> 3\u001b[1;33m \u001b[1;32massert\u001b[0m \u001b[0mx\u001b[0m \u001b[1;33m%\u001b[0m \u001b[1;36m3\u001b[0m \u001b[1;33m==\u001b[0m \u001b[1;36m0\u001b[0m\u001b[1;33m,\u001b[0m \u001b[1;34m'3의 배수가 아닙니다.'\u001b[0m    \u001b[1;31m# 3의 배수가 아니면 예외 발생, 3의 배수이면 그냥 넘어감\u001b[0m\u001b[1;33m\u001b[0m\u001b[1;33m\u001b[0m\u001b[0m\n\u001b[0m\u001b[0;32m      4\u001b[0m \u001b[0mprint\u001b[0m\u001b[1;33m(\u001b[0m\u001b[0mx\u001b[0m\u001b[1;33m)\u001b[0m\u001b[1;33m\u001b[0m\u001b[1;33m\u001b[0m\u001b[0m\n",
      "\u001b[1;31mAssertionError\u001b[0m: 3의 배수가 아닙니다."
     ]
    }
   ],
   "source": [
    "# assert\n",
    "# assert 조건식\n",
    "# assert 조건식, 에러메시지\n",
    "x = int(input('3의 배수를 입력하세요: '))\n",
    "assert x % 3 == 0, '3의 배수가 아닙니다.'    # 3의 배수가 아니면 예외 발생, 3의 배수이면 그냥 넘어감\n",
    "print(x)"
   ]
  },
  {
   "cell_type": "markdown",
   "metadata": {},
   "source": [
    "#### 38.4 예외만들기"
   ]
  },
  {
   "cell_type": "code",
   "execution_count": 12,
   "metadata": {},
   "outputs": [
    {
     "name": "stdout",
     "output_type": "stream",
     "text": [
      "예외가 발생했습니다. 3의 배수가 아닙니다.\n"
     ]
    }
   ],
   "source": [
    "class NotThreeMultipleError(Exception):    # Exception을 상속받아서 새로운 예외를 만듦\n",
    "    def __init__(self):\n",
    "        super().__init__('3의 배수가 아닙니다.')\n",
    " \n",
    "def three_multiple():\n",
    "    try:\n",
    "        x = int(input('3의 배수를 입력하세요: '))\n",
    "        if x % 3 != 0:                     # x가 3의 배수가 아니면\n",
    "            raise NotThreeMultipleError    # NotThreeMultipleError 예외를 발생시킴\n",
    "        print(x)\n",
    "    except Exception as e:\n",
    "        print('예외가 발생했습니다.', e)\n",
    " \n",
    "three_multiple()"
   ]
  },
  {
   "cell_type": "code",
   "execution_count": null,
   "metadata": {},
   "outputs": [],
   "source": []
  }
 ],
 "metadata": {
  "interpreter": {
   "hash": "0094501f3b0006488e906d4f89333eda809204133ac7d3552e2d5dc9af9e2d58"
  },
  "kernelspec": {
   "display_name": "Python 3.9.7 ('base')",
   "language": "python",
   "name": "python3"
  },
  "language_info": {
   "codemirror_mode": {
    "name": "ipython",
    "version": 3
   },
   "file_extension": ".py",
   "mimetype": "text/x-python",
   "name": "python",
   "nbconvert_exporter": "python",
   "pygments_lexer": "ipython3",
   "version": "3.9.7"
  },
  "orig_nbformat": 4
 },
 "nbformat": 4,
 "nbformat_minor": 2
}
