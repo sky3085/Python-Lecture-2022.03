{
 "cells": [
  {
   "cell_type": "markdown",
   "metadata": {},
   "source": [
    "## Unit 20. FizzBuzz"
   ]
  },
  {
   "cell_type": "code",
   "execution_count": 2,
   "metadata": {},
   "outputs": [
    {
     "name": "stdout",
     "output_type": "stream",
     "text": [
      "1 2 Fizz 4 Buzz Fizz 7 8 Fizz Buzz 11 Fizz 13 14 FizzBuzz 16 17 Fizz 19 Buzz Fizz 22 23 Fizz Buzz 26 Fizz 28 29 FizzBuzz 31 32 Fizz 34 Buzz Fizz 37 38 Fizz Buzz 41 Fizz 43 44 FizzBuzz 46 47 Fizz 49 Buzz Fizz 52 53 Fizz Buzz 56 Fizz 58 59 FizzBuzz 61 62 Fizz 64 Buzz Fizz 67 68 Fizz Buzz 71 Fizz 73 74 FizzBuzz 76 77 Fizz 79 Buzz Fizz 82 83 Fizz Buzz 86 Fizz 88 89 FizzBuzz 91 92 Fizz 94 Buzz Fizz 97 98 Fizz Buzz \n"
     ]
    }
   ],
   "source": [
    "# 1~100까지 숫자를 출력한다.\n",
    "\n",
    "# 1에서 100까지 출력\n",
    "# 3의 배수는 Fizz 출력\n",
    "# 5의 배수는 Buzz 출력\n",
    "# 3과 5의 공배수는 FizzBuzz 출력\n",
    "\n",
    "for i in range(1, 101):\n",
    "    if(i%3==0 and i%5==0) :\n",
    "        print('FizzBuzz', end=' ')\n",
    "    elif(i%3 == 0) :\n",
    "        print('Fizz', end=' ')\n",
    "    elif(i%5 == 0) :\n",
    "        print('Buzz', end=' ')\n",
    "    else :\n",
    "        print(i, end=' ')\n",
    "print()"
   ]
  },
  {
   "cell_type": "code",
   "execution_count": 3,
   "metadata": {},
   "outputs": [
    {
     "name": "stdout",
     "output_type": "stream",
     "text": [
      "1 2 Fizz 4 Buzz Fizz 7 8 Fizz Buzz 11 Fizz 13 14 FizzBuzz 16 17 Fizz 19 Buzz Fizz 22 23 Fizz Buzz 26 Fizz 28 29 FizzBuzz 31 32 Fizz 34 Buzz Fizz 37 38 Fizz Buzz 41 Fizz 43 44 FizzBuzz 46 47 Fizz 49 Buzz Fizz 52 53 Fizz Buzz 56 Fizz 58 59 FizzBuzz 61 62 Fizz 64 Buzz Fizz 67 68 Fizz Buzz 71 Fizz 73 74 FizzBuzz 76 77 Fizz 79 Buzz Fizz 82 83 Fizz Buzz 86 Fizz 88 89 FizzBuzz 91 92 Fizz 94 Buzz Fizz 97 98 Fizz Buzz "
     ]
    }
   ],
   "source": [
    "for i in range(1, 101):\n",
    "    print('Fizz'*(i%3==0) + 'Buzz'*(i%5==0) or i, end=' ')"
   ]
  },
  {
   "cell_type": "code",
   "execution_count": 7,
   "metadata": {},
   "outputs": [
    {
     "name": "stdout",
     "output_type": "stream",
     "text": [
      "906609 913 993\n"
     ]
    }
   ],
   "source": [
    "# 연습문제\n",
    "# 세자리수 2개를 곱해서 만든 수가 대칭수일 때\n",
    "# 가장 큰 대칭수와 그 경우 두 수를 구하세요\n",
    "\n",
    "# 대칭수 판단 함수\n",
    "def is_palindrome(n):\n",
    "    s=str(n)\n",
    "    return s == s[::-1]\n",
    "\n",
    "big_mul = 0;\n",
    "r_a=0;\n",
    "r_b=0;\n",
    "\n",
    "for i in range(100, 1000):\n",
    "    for k in range(i, 1000):\n",
    "        mul = i*k\n",
    "        if(is_palindrome(mul)):\n",
    "            if(mul>big_mul):\n",
    "                big_mul = mul\n",
    "                r_a=i\n",
    "                r_b=k\n",
    "\n",
    "print(big_mul, r_a, r_b)            "
   ]
  },
  {
   "cell_type": "code",
   "execution_count": 6,
   "metadata": {},
   "outputs": [
    {
     "data": {
      "text/plain": [
       "59"
      ]
     },
     "execution_count": 6,
     "metadata": {},
     "output_type": "execute_result"
    }
   ],
   "source": [
    "num_list = [34, 25, 4, 6, 19, 39, 59]\n",
    "max(num_list)"
   ]
  },
  {
   "cell_type": "code",
   "execution_count": null,
   "metadata": {},
   "outputs": [],
   "source": []
  }
 ],
 "metadata": {
  "interpreter": {
   "hash": "0094501f3b0006488e906d4f89333eda809204133ac7d3552e2d5dc9af9e2d58"
  },
  "kernelspec": {
   "display_name": "Python 3.9.7 64-bit ('base': conda)",
   "language": "python",
   "name": "python3"
  },
  "language_info": {
   "codemirror_mode": {
    "name": "ipython",
    "version": 3
   },
   "file_extension": ".py",
   "mimetype": "text/x-python",
   "name": "python",
   "nbconvert_exporter": "python",
   "pygments_lexer": "ipython3",
   "version": "3.9.7"
  },
  "orig_nbformat": 4
 },
 "nbformat": 4,
 "nbformat_minor": 2
}
