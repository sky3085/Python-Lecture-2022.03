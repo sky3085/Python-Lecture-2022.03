{
 "cells": [
  {
   "cell_type": "markdown",
   "metadata": {},
   "source": [
    "## Unit 15 Elif\n",
    "### 15.1 elif 사용하기"
   ]
  },
  {
   "cell_type": "code",
   "execution_count": 1,
   "metadata": {},
   "outputs": [],
   "source": [
    "import random"
   ]
  },
  {
   "cell_type": "code",
   "execution_count": 2,
   "metadata": {},
   "outputs": [
    {
     "name": "stdout",
     "output_type": "stream",
     "text": [
      "98 A\n"
     ]
    }
   ],
   "source": [
    "score = random.randint(40,100)\n",
    "if score >= 90 :\n",
    "    grade = \"A\"\n",
    "elif score >= 80 :\n",
    "    grade = \"B\"\n",
    "elif score >= 70 :\n",
    "    grade = \"C\"\n",
    "elif score >= 60 :\n",
    "    grade = \"D\"\n",
    "else :\n",
    "    grade = \"F\"\n",
    "print(score, grade)"
   ]
  },
  {
   "cell_type": "code",
   "execution_count": 4,
   "metadata": {},
   "outputs": [
    {
     "name": "stdout",
     "output_type": "stream",
     "text": [
      "98 A\n"
     ]
    }
   ],
   "source": [
    "grade1 = 'A' if score >= 90 else \\\n",
    "            'B' if score >= 80 else 'C'# \\는 다음 줄을 연결해준다.\n",
    "print(score, grade1)"
   ]
  },
  {
   "cell_type": "code",
   "execution_count": 18,
   "metadata": {},
   "outputs": [
    {
     "name": "stdout",
     "output_type": "stream",
     "text": [
      "만나이는 25입니다.\n"
     ]
    }
   ],
   "source": [
    "# 연습문제\n",
    "# 생일을 입력으로 받아 오늘 현재의 만 나이를 계산하시오.\n",
    "import datetime as dt\n",
    "today = dt.date.today()\n",
    "today.year, today.month, today.day\n",
    "birth_year, birth_month, birth_day = map(int,input('생년월일을 입력하시오 : ').split(' '))\n",
    "\n",
    "if(today.month-birth_month>0):\n",
    "    print('만나이는 '+ str(today.year-birth_year)+'입니다.') #생일이 지났으면\n",
    "elif(today.month-birth_month==0): #생일과 달이 같아서 날짜까지 계산해야할 때\n",
    "    if(today.day < birth_day): #생일의 날짜가 아직 안왔으면\n",
    "        print('만나이는 '+ str(today.year-birth_year-1)+'입니다.')\n",
    "    else: #생일의 날짜가 왔거나 지났으면\n",
    "        print('만나이는 '+ str(today.year-birth_year)+'입니다.')\n",
    "else :\n",
    "    print('만나이는 '+ str(today.year-birth_year-1)+'입니다.') #생일이 아직 안지났으면\n",
    "\n"
   ]
  },
  {
   "cell_type": "code",
   "execution_count": null,
   "metadata": {},
   "outputs": [],
   "source": []
  }
 ],
 "metadata": {
  "interpreter": {
   "hash": "0094501f3b0006488e906d4f89333eda809204133ac7d3552e2d5dc9af9e2d58"
  },
  "kernelspec": {
   "display_name": "Python 3.9.7 64-bit ('base': conda)",
   "language": "python",
   "name": "python3"
  },
  "language_info": {
   "codemirror_mode": {
    "name": "ipython",
    "version": 3
   },
   "file_extension": ".py",
   "mimetype": "text/x-python",
   "name": "python",
   "nbconvert_exporter": "python",
   "pygments_lexer": "ipython3",
   "version": "3.9.7"
  },
  "orig_nbformat": 4
 },
 "nbformat": 4,
 "nbformat_minor": 2
}
