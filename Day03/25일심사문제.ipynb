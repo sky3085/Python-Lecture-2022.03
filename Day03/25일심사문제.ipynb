{
 "cells": [
  {
   "cell_type": "code",
   "execution_count": 3,
   "metadata": {},
   "outputs": [
    {
     "name": "stdout",
     "output_type": "stream",
     "text": [
      "24000\n"
     ]
    }
   ],
   "source": [
    "# 13 심사문제\n",
    "price = int(input())\n",
    "coupon = input()\n",
    "if(coupon=='Cash3000'):\n",
    "    price-=3000\n",
    "elif(coupon=='Cash5000'):\n",
    "    price-=5000\n",
    "else:\n",
    "    print(\"잘못입력하였습니다.\")\n",
    "print(price)\n"
   ]
  },
  {
   "cell_type": "code",
   "execution_count": 6,
   "metadata": {},
   "outputs": [
    {
     "name": "stdout",
     "output_type": "stream",
     "text": [
      "합격\n"
     ]
    }
   ],
   "source": [
    "# 14 심사문제\n",
    "kor, eng, mat, sc = map(int, input().split())\n",
    "avg = (kor+eng+mat+sc)/4\n",
    "if(0<=kor<=100 and 0<=eng<=100 and 0<=mat<=100 and 0<=sc<=100):\n",
    "    if(avg>=80):\n",
    "        print(\"합격\")\n",
    "    else:\n",
    "        print('불합격')\n",
    "else:\n",
    "    print('잘못된 점수')\n"
   ]
  },
  {
   "cell_type": "code",
   "execution_count": 7,
   "metadata": {},
   "outputs": [
    {
     "name": "stdout",
     "output_type": "stream",
     "text": [
      "8350\n"
     ]
    }
   ],
   "source": [
    "# 15 심사문제\n",
    "age = int(input())\n",
    "balance = 9000\n",
    "if(age<=12):#7이상만 입력된다고 가정하였으므로\n",
    "    balance-=650\n",
    "elif(age<=18):\n",
    "    balance-=1050\n",
    "else:\n",
    "    balance-=1250\n",
    "print(balance)"
   ]
  },
  {
   "cell_type": "code",
   "execution_count": 8,
   "metadata": {},
   "outputs": [
    {
     "name": "stdout",
     "output_type": "stream",
     "text": [
      "5 * 1 = 5\n",
      "5 * 2 = 10\n",
      "5 * 3 = 15\n",
      "5 * 4 = 20\n",
      "5 * 5 = 25\n",
      "5 * 6 = 30\n",
      "5 * 7 = 35\n",
      "5 * 8 = 40\n",
      "5 * 9 = 45\n"
     ]
    }
   ],
   "source": [
    "# 16 심사문제\n",
    "gu = int(input())\n",
    "for i in range(1,10):\n",
    "    print(f'{gu} * {i} = {gu*i}')"
   ]
  },
  {
   "cell_type": "code",
   "execution_count": 11,
   "metadata": {},
   "outputs": [
    {
     "name": "stdout",
     "output_type": "stream",
     "text": [
      "12150\n",
      "10800\n",
      "9450\n",
      "8100\n",
      "6750\n",
      "5400\n",
      "4050\n",
      "2700\n",
      "1350\n",
      "0\n"
     ]
    }
   ],
   "source": [
    "# 17 심사문제\n",
    "bal = int(input())\n",
    "while bal>=1350:\n",
    "    bal-=1350\n",
    "    print(bal)"
   ]
  },
  {
   "cell_type": "code",
   "execution_count": 22,
   "metadata": {},
   "outputs": [
    {
     "name": "stdout",
     "output_type": "stream",
     "text": [
      "21 22 24 25 26 27 28 29 30 31 32 "
     ]
    }
   ],
   "source": [
    "# 18 심사문제\n",
    "start, stop = map(int, input().split())\n",
    "i = start\n",
    "\n",
    "while True:\n",
    "    if(i==stop):\n",
    "        break\n",
    "    \n",
    "    if(i%10==3):\n",
    "        i+=1\n",
    "        continue\n",
    "\n",
    "    print(i, end=' ')\n",
    "    i+=1\n",
    "    \n",
    "    "
   ]
  },
  {
   "cell_type": "code",
   "execution_count": 32,
   "metadata": {},
   "outputs": [
    {
     "name": "stdout",
     "output_type": "stream",
     "text": [
      "   *\n",
      "  ***\n",
      " *****\n",
      "*******\n"
     ]
    }
   ],
   "source": [
    "# 19 심사문제\n",
    "h = int(input())\n",
    "\n",
    "for i in range(h):\n",
    "    for k in range(h-(i+1)):\n",
    "        print(\" \", end='')\n",
    "    for k in range(2*i+1):\n",
    "        print(\"*\", end='')\n",
    "    print()"
   ]
  },
  {
   "cell_type": "code",
   "execution_count": 34,
   "metadata": {},
   "outputs": [
    {
     "name": "stdout",
     "output_type": "stream",
     "text": [
      "Fizz 101 102 103 104 FizzBuzz 106 107 108 109 Fizz 111 Buzz 113 114 Fizz 116 117 118 Buzz Fizz 121 122 123 124 Fizz Buzz 127 128 129 Fizz 131 132 Buzz 134 Fizz 136 137 138 139 FizzBuzz 141 142 143 144 Fizz 146 Buzz 148 149 Fizz 151 152 153 Buzz Fizz 156 157 158 159 Fizz Buzz 162 163 164 Fizz 166 167 Buzz 169 Fizz 171 172 173 174 FizzBuzz 176 177 178 179 Fizz 181 Buzz 183 184 Fizz 186 187 188 Buzz Fizz 191 192 193 194 Fizz Buzz 197 198 199 "
     ]
    }
   ],
   "source": [
    "# 20번 심사문제\n",
    "start, stop=map(int,input().split())\n",
    "for i in range(start, stop):\n",
    "    print('Fizz'*(i%5==0) + 'Buzz'*(i%7==0) or i, end=' ')"
   ]
  },
  {
   "cell_type": "code",
   "execution_count": null,
   "metadata": {},
   "outputs": [],
   "source": []
  }
 ],
 "metadata": {
  "interpreter": {
   "hash": "0094501f3b0006488e906d4f89333eda809204133ac7d3552e2d5dc9af9e2d58"
  },
  "kernelspec": {
   "display_name": "Python 3.9.7 64-bit ('base': conda)",
   "language": "python",
   "name": "python3"
  },
  "language_info": {
   "codemirror_mode": {
    "name": "ipython",
    "version": 3
   },
   "file_extension": ".py",
   "mimetype": "text/x-python",
   "name": "python",
   "nbconvert_exporter": "python",
   "pygments_lexer": "ipython3",
   "version": "3.9.7"
  },
  "orig_nbformat": 4
 },
 "nbformat": 4,
 "nbformat_minor": 2
}
