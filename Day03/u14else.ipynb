{
 "cells": [
  {
   "cell_type": "markdown",
   "metadata": {},
   "source": [
    "## 14. else\n",
    "### 14.1 else 사용하기"
   ]
  },
  {
   "cell_type": "code",
   "execution_count": 2,
   "metadata": {},
   "outputs": [],
   "source": [
    "import random"
   ]
  },
  {
   "cell_type": "code",
   "execution_count": 21,
   "metadata": {},
   "outputs": [
    {
     "name": "stdout",
     "output_type": "stream",
     "text": [
      "작은 수\n",
      "2\n"
     ]
    }
   ],
   "source": [
    "x=random.randint(1,6)\n",
    "if x>=4:\n",
    "    print(\"큰수\")\n",
    "else :\n",
    "    print('작은 수')\n",
    "print(x)"
   ]
  },
  {
   "cell_type": "code",
   "execution_count": 23,
   "metadata": {},
   "outputs": [
    {
     "name": "stdout",
     "output_type": "stream",
     "text": [
      "2 even number\n"
     ]
    }
   ],
   "source": [
    "if x%2==0:\n",
    "    result = 'even number'\n",
    "else :\n",
    "    result = 'odd number'\n",
    "print(x, result)"
   ]
  },
  {
   "cell_type": "code",
   "execution_count": 24,
   "metadata": {},
   "outputs": [
    {
     "name": "stdout",
     "output_type": "stream",
     "text": [
      "2 even\n"
     ]
    }
   ],
   "source": [
    "# 조건부 표현식(3항 연산자)\n",
    "result = 'even' if x%2==0 else 'odd'\n",
    "print(x, result)"
   ]
  },
  {
   "cell_type": "code",
   "execution_count": 27,
   "metadata": {},
   "outputs": [
    {
     "data": {
      "text/plain": [
       "'i am goood'"
      ]
     },
     "execution_count": 27,
     "metadata": {},
     "output_type": "execute_result"
    }
   ],
   "source": [
    "result = 'i am goood' if x==2 else 'i am bad'\n",
    "result"
   ]
  },
  {
   "cell_type": "markdown",
   "metadata": {},
   "source": [
    "### 14.2 else와 들여쓰기"
   ]
  },
  {
   "cell_type": "code",
   "execution_count": 29,
   "metadata": {},
   "outputs": [
    {
     "name": "stdout",
     "output_type": "stream",
     "text": [
      "x에 들어있는 숫자는 10이 아닙니다.\n"
     ]
    }
   ],
   "source": [
    "x=11\n",
    "if x==10:\n",
    "    print(\"10입니다.\")\n",
    "else :\n",
    "    print('x에 들어있는 숫자는', end=' ')\n",
    "    print(\"10이 아닙니다.\")"
   ]
  },
  {
   "cell_type": "code",
   "execution_count": 30,
   "metadata": {},
   "outputs": [
    {
     "name": "stdout",
     "output_type": "stream",
     "text": [
      "python\n"
     ]
    }
   ],
   "source": [
    "#문자열을 비어있으면 false 하나라도 있으면 true다.\n",
    "x='python'\n",
    "if x:\n",
    "    print(x)\n",
    "else :\n",
    "    print('0, 0.0, \"\", False, None입니다.')"
   ]
  },
  {
   "cell_type": "markdown",
   "metadata": {},
   "source": [
    "### 14.4 여러개의 조건식"
   ]
  },
  {
   "cell_type": "code",
   "execution_count": 34,
   "metadata": {},
   "outputs": [
    {
     "name": "stdout",
     "output_type": "stream",
     "text": [
      "Fizzbuzz\n"
     ]
    }
   ],
   "source": [
    "\n",
    "# 3과 5의 공배수면 FizzBuzz 출력\n",
    "# 위의 경우가 아니면 숫자값을 출력\n",
    "x = random.randint(1,100)\n",
    "if(x%3==0 and x%5==0):\n",
    "    print('Fizzbuzz')\n",
    "else :\n",
    "    print(x)"
   ]
  },
  {
   "cell_type": "code",
   "execution_count": 53,
   "metadata": {},
   "outputs": [
    {
     "name": "stdout",
     "output_type": "stream",
     "text": [
      "평년입니다.\n",
      "평년입니다.\n"
     ]
    }
   ],
   "source": [
    "# 연습문제 4로 나누면 윤년, 100으로 나누어지면 평년, 400으로 나누어지면 윤년\n",
    "# 그외에는 평년\n",
    "x=1900;\n",
    "if(x%4==0) :\n",
    "    if(x%100==0):\n",
    "        if(x%400==0):\n",
    "            print('윤년입니다.')\n",
    "        else :\n",
    "            print('평년입니다.')\n",
    "    else :\n",
    "        print('윤년입니다.')\n",
    "else:\n",
    "    print('평년입니다.')\n",
    "\n",
    "\n",
    "if( x%4==0 and (x%100!=0 or x%400==0)):\n",
    "    print(\"윤년입니다.\")\n",
    "else :\n",
    "    print(\"평년입니다.\")\n",
    "# not (A and b) not A or not B"
   ]
  }
 ],
 "metadata": {
  "interpreter": {
   "hash": "0094501f3b0006488e906d4f89333eda809204133ac7d3552e2d5dc9af9e2d58"
  },
  "kernelspec": {
   "display_name": "Python 3.9.7 64-bit ('base': conda)",
   "language": "python",
   "name": "python3"
  },
  "language_info": {
   "codemirror_mode": {
    "name": "ipython",
    "version": 3
   },
   "file_extension": ".py",
   "mimetype": "text/x-python",
   "name": "python",
   "nbconvert_exporter": "python",
   "pygments_lexer": "ipython3",
   "version": "3.9.7"
  },
  "orig_nbformat": 4
 },
 "nbformat": 4,
 "nbformat_minor": 2
}
