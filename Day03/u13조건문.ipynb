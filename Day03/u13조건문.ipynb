{
 "cells": [
  {
   "cell_type": "markdown",
   "metadata": {},
   "source": [
    "## Unit 13 조건문\n",
    "## 13.1 if 조건문 사용하기"
   ]
  },
  {
   "cell_type": "code",
   "execution_count": 4,
   "metadata": {},
   "outputs": [],
   "source": [
    "import random\n",
    "x=random.randint(9,11)\n",
    "if x == 10 :\n",
    "    print('10입니다.')\n",
    "else :\n",
    "    pass"
   ]
  },
  {
   "cell_type": "code",
   "execution_count": 6,
   "metadata": {},
   "outputs": [
    {
     "name": "stdout",
     "output_type": "stream",
     "text": [
      "false\n"
     ]
    }
   ],
   "source": [
    "x = 0;\n",
    "if x:#정수를 bool형으로 변환해준다.\n",
    "    print(x)\n",
    "else:\n",
    "    print('false')"
   ]
  },
  {
   "cell_type": "markdown",
   "metadata": {},
   "source": [
    "### 13.2 if조건문과 들여쓰기"
   ]
  },
  {
   "cell_type": "code",
   "execution_count": 8,
   "metadata": {},
   "outputs": [
    {
     "name": "stdout",
     "output_type": "stream",
     "text": [
      "10입니다.\n",
      "들여쓰기한 이 부분은 조건이 참일 경우에 실행됩니다.\n",
      "들여쓰기가 끝나면 조건에 관계없이 실행됩니다.\n"
     ]
    }
   ],
   "source": [
    "if x==0:\n",
    "    print('10입니다.')\n",
    "    print('들여쓰기한 이 부분은 조건이 참일 경우에 실행됩니다.')#들여쓰기 4칸 지키면 전부실행\n",
    "print(\"들여쓰기가 끝나면 조건에 관계없이 실행됩니다.\")"
   ]
  },
  {
   "cell_type": "markdown",
   "metadata": {},
   "source": [
    "### 13.3 중첩조건문"
   ]
  },
  {
   "cell_type": "code",
   "execution_count": 24,
   "metadata": {},
   "outputs": [
    {
     "name": "stdout",
     "output_type": "stream",
     "text": [
      "10 이상입니다.\n",
      "15이상입니다.\n",
      "15\n"
     ]
    }
   ],
   "source": [
    "x=random.randint(1,20)\n",
    "if x>=10:\n",
    "    print(\"10 이상입니다.\")\n",
    "    if x>=15:\n",
    "        print('15이상입니다.')\n",
    "print(x)"
   ]
  },
  {
   "cell_type": "code",
   "execution_count": 27,
   "metadata": {},
   "outputs": [
    {
     "name": "stdout",
     "output_type": "stream",
     "text": [
      "10 이상입니다.\n",
      "3의 배수입니다.\n",
      "18\n"
     ]
    }
   ],
   "source": [
    "# 10 이상 정수, 3의 배수를 찾기\n",
    "x=random.randint(1,20)\n",
    "if x>=10:\n",
    "    print(\"10 이상입니다.\")\n",
    "    if x%3==0:\n",
    "        print('3의 배수입니다.')\n",
    "print(x)"
   ]
  }
 ],
 "metadata": {
  "interpreter": {
   "hash": "0094501f3b0006488e906d4f89333eda809204133ac7d3552e2d5dc9af9e2d58"
  },
  "kernelspec": {
   "display_name": "Python 3.9.7 64-bit ('base': conda)",
   "language": "python",
   "name": "python3"
  },
  "language_info": {
   "codemirror_mode": {
    "name": "ipython",
    "version": 3
   },
   "file_extension": ".py",
   "mimetype": "text/x-python",
   "name": "python",
   "nbconvert_exporter": "python",
   "pygments_lexer": "ipython3",
   "version": "3.9.7"
  },
  "orig_nbformat": 4
 },
 "nbformat": 4,
 "nbformat_minor": 2
}
