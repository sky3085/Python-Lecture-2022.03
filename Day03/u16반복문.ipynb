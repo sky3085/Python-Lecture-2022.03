{
 "cells": [
  {
   "cell_type": "markdown",
   "metadata": {},
   "source": [
    "## Unit 16 반복문(for, range)\n",
    "### 16.1 for와 range 사용하기"
   ]
  },
  {
   "cell_type": "code",
   "execution_count": 2,
   "metadata": {},
   "outputs": [
    {
     "name": "stdout",
     "output_type": "stream",
     "text": [
      "Hello Python\n",
      "Hello Python\n",
      "Hello Python\n"
     ]
    }
   ],
   "source": [
    "for i in range(3):\n",
    "    print('Hello Python')"
   ]
  },
  {
   "cell_type": "code",
   "execution_count": 4,
   "metadata": {},
   "outputs": [
    {
     "name": "stdout",
     "output_type": "stream",
     "text": [
      "안녕하세요 0 HI\n",
      "안녕하세요 1 HI\n",
      "안녕하세요 2 HI\n"
     ]
    }
   ],
   "source": [
    "for i in range(3):\n",
    "    print('안녕하세요', i, \"HI\")"
   ]
  },
  {
   "cell_type": "code",
   "execution_count": 8,
   "metadata": {},
   "outputs": [
    {
     "name": "stdout",
     "output_type": "stream",
     "text": [
      "a b c "
     ]
    }
   ],
   "source": [
    "#시퀀스 객체면 range대신에 쓸 수 있다.\n",
    "list = ['a', 'b', 'c']\n",
    "for i in list:\n",
    "    print(i,end=' ')"
   ]
  },
  {
   "cell_type": "code",
   "execution_count": 10,
   "metadata": {},
   "outputs": [
    {
     "name": "stdout",
     "output_type": "stream",
     "text": [
      "python python python "
     ]
    }
   ],
   "source": [
    "# 루프안에서 인덱스 값이 필요하지 않으면 i대신 _ 를 쓸 수 있다.\n",
    "for _ in range(3):\n",
    "    print('python', end=' ')"
   ]
  },
  {
   "cell_type": "code",
   "execution_count": 12,
   "metadata": {},
   "outputs": [
    {
     "name": "stdout",
     "output_type": "stream",
     "text": [
      "0 1 2 3 4 5 6 7 8 9 "
     ]
    }
   ],
   "source": [
    "for i in range(10):\n",
    "    print(i, end=' ')\n",
    "    i += 5 # 금기 사항, 반복문 중에서 인덱스 값을 인위적으로 변화시키지 말 것"
   ]
  },
  {
   "cell_type": "code",
   "execution_count": 14,
   "metadata": {},
   "outputs": [],
   "source": [
    "for i in range(int(input())):#0은 반복하지 않는다.\n",
    "    print(\"*\", end=' ')"
   ]
  },
  {
   "cell_type": "code",
   "execution_count": 16,
   "metadata": {},
   "outputs": [
    {
     "name": "stdout",
     "output_type": "stream",
     "text": [
      "n o h t y p \n",
      "n o h t y p "
     ]
    }
   ],
   "source": [
    "#시퀀스 객체 뒤집기\n",
    "for letter in reversed('python'):\n",
    "    print(letter, end=\" \")\n",
    "print('')\n",
    "for letter in 'python'[::-1]:\n",
    "    print(letter, end=\" \")\n",
    "    "
   ]
  },
  {
   "cell_type": "code",
   "execution_count": 19,
   "metadata": {},
   "outputs": [
    {
     "name": "stdout",
     "output_type": "stream",
     "text": [
      "5050\n"
     ]
    }
   ],
   "source": [
    "# 반복문 응용 1에서 100까지의 합\n",
    "sum100=0;\n",
    "for i in range(101):\n",
    "    sum100 += i\n",
    "print(sum100)"
   ]
  },
  {
   "cell_type": "code",
   "execution_count": 21,
   "metadata": {},
   "outputs": [
    {
     "data": {
      "text/plain": [
       "[1.0, 1.4142, 1.7321, 2.0, 2.2361, 2.4495, 2.6458, 2.8284, 3.0, 3.1623]"
      ]
     },
     "execution_count": 21,
     "metadata": {},
     "output_type": "execute_result"
    }
   ],
   "source": [
    "# 1에서 10까지 sqrt 값을 갖는 리스트를 만드세요\n",
    "import math\n",
    "result = []\n",
    "for i in range(1, 11):\n",
    "    #result.append(i ** 0.5)\n",
    "    result.append(round(math.sqrt(i),4))#round는 소숫점 이하 개수를 정해준다.\n",
    "result"
   ]
  },
  {
   "cell_type": "code",
   "execution_count": null,
   "metadata": {},
   "outputs": [],
   "source": []
  }
 ],
 "metadata": {
  "interpreter": {
   "hash": "0094501f3b0006488e906d4f89333eda809204133ac7d3552e2d5dc9af9e2d58"
  },
  "kernelspec": {
   "display_name": "Python 3.9.7 64-bit ('base': conda)",
   "language": "python",
   "name": "python3"
  },
  "language_info": {
   "codemirror_mode": {
    "name": "ipython",
    "version": 3
   },
   "file_extension": ".py",
   "mimetype": "text/x-python",
   "name": "python",
   "nbconvert_exporter": "python",
   "pygments_lexer": "ipython3",
   "version": "3.9.7"
  },
  "orig_nbformat": 4
 },
 "nbformat": 4,
 "nbformat_minor": 2
}
