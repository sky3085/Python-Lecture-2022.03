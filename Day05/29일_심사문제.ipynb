{
 "cells": [
  {
   "cell_type": "code",
   "execution_count": 54,
   "metadata": {},
   "outputs": [
    {
     "name": "stdout",
     "output_type": "stream",
     "text": [
      "['the', 'grownups', 'response', 'this', 'time', 'was', 'to', 'advise', 'me', 'to', 'lay', 'aside', 'my', 'drawings', 'of', 'boa', 'constrictors', 'whether', 'from', 'the', 'inside', 'or', 'the', 'outside', 'and', 'devote', 'myself', 'instead', 'to', 'geography', 'history', 'arithmetic', 'and', 'grammar', 'That', 'is', 'why', 'at', 'the', 'age', 'of', 'six', 'I', 'gave', 'up', 'what', 'might', 'have', 'been', 'a', 'magnificent', 'career', 'as', 'a', 'painter', 'I', 'had', 'been', 'disheartened', 'by', 'the', 'failure', 'of', 'my', 'Drawing', 'Number', 'One', 'and', 'my', 'Drawing', 'Number', 'Two', 'Grownups', 'never', 'understand', 'anything', 'by', 'themselves', 'and', 'it', 'is', 'tiresome', 'for', 'children', 'to', 'be', 'always', 'and', 'forever', 'explaining', 'things', 'to', 'the']\n"
     ]
    },
    {
     "data": {
      "text/plain": [
       "6"
      ]
     },
     "execution_count": 54,
     "metadata": {},
     "output_type": "execute_result"
    }
   ],
   "source": [
    "# 24-1\n",
    "import re\n",
    "s = input('')\n",
    "s = s.split()\n",
    "a=[]\n",
    "for i in s:\n",
    "    r=re.sub('[^A-Za-z ]', '', i)\n",
    "    a.append(r)\n",
    "\n",
    "a.count('the')"
   ]
  },
  {
   "cell_type": "code",
   "execution_count": 19,
   "metadata": {},
   "outputs": [
    {
     "name": "stdout",
     "output_type": "stream",
     "text": [
      " 1,304,000\n",
      "   367,500\n",
      "   250,000\n",
      "   158,000\n",
      "   128,500\n",
      "    83,000\n",
      "    59,200\n",
      "    51,900\n"
     ]
    }
   ],
   "source": [
    "#24-2\n",
    "a = input('')\n",
    "list_a = list(map(int,a.split(';')))\n",
    "list_a.sort(reverse=True)\n",
    "for i in list_a:\n",
    "    print(f'{i:10,d}')"
   ]
  },
  {
   "cell_type": "code",
   "execution_count": 26,
   "metadata": {},
   "outputs": [
    {
     "name": "stdout",
     "output_type": "stream",
     "text": [
      "{'alpha': 10, 'bravo': 20}\n"
     ]
    }
   ],
   "source": [
    "# 25\n",
    "keys = input().split()\n",
    "values = map(int, input().split())\n",
    " \n",
    "x = dict(zip(keys, values))\n",
    "\n",
    "x.pop('delta')\n",
    "x={k:v for k, v in x.items() if v != 30}\n",
    "print(x)"
   ]
  },
  {
   "cell_type": "code",
   "execution_count": 34,
   "metadata": {},
   "outputs": [
    {
     "name": "stdout",
     "output_type": "stream",
     "text": [
      "217\n"
     ]
    }
   ],
   "source": [
    "# 26\n",
    "a, b = map(int,input('').split())\n",
    "a = {i for i in range(1,a+1) if a % i == 0}\n",
    "b = {i for i in range(1,b+1) if b % i == 0}\n",
    "\n",
    "div = a & b\n",
    "result = sum(div)\n",
    "print(result)"
   ]
  }
 ],
 "metadata": {
  "interpreter": {
   "hash": "0094501f3b0006488e906d4f89333eda809204133ac7d3552e2d5dc9af9e2d58"
  },
  "kernelspec": {
   "display_name": "Python 3.9.7 ('base')",
   "language": "python",
   "name": "python3"
  },
  "language_info": {
   "codemirror_mode": {
    "name": "ipython",
    "version": 3
   },
   "file_extension": ".py",
   "mimetype": "text/x-python",
   "name": "python",
   "nbconvert_exporter": "python",
   "pygments_lexer": "ipython3",
   "version": "3.9.7"
  },
  "orig_nbformat": 4
 },
 "nbformat": 4,
 "nbformat_minor": 2
}
