{
 "cells": [
  {
   "cell_type": "code",
   "execution_count": 4,
   "metadata": {},
   "outputs": [
    {
     "name": "stdout",
     "output_type": "stream",
     "text": [
      "['dictator', 'subjects', 'change', 'costume', 'elegance', 'accepted']\n",
      "<class 'list'>\n",
      "dictator\n",
      "subjects\n",
      "change\n",
      "costume\n",
      "elegance\n",
      "accepted\n"
     ]
    }
   ],
   "source": [
    "#27\n",
    "import re\n",
    "with open('words.txt', 'r') as f:\n",
    "    a = f.read()\n",
    "a = a.split()\n",
    "b=[]\n",
    "for i in a:\n",
    "    a=re.sub('[^A-Za-z ]', '', i)\n",
    "    b.append(a)\n",
    "c=[]\n",
    "for i in b:\n",
    "    if 'c' in i:\n",
    "        c.append(i)\n",
    "print(c)\n",
    "\n",
    "#다른 코딩\n",
    "with open('words.txt', 'r') as f:\n",
    "    words = f.read()\n",
    "\n",
    "for word in words.split() :\n",
    "    word = word.strip(',.')\n",
    "    if 'c' in word:\n",
    "        print(word)\n"
   ]
  },
  {
   "cell_type": "code",
   "execution_count": 5,
   "metadata": {},
   "outputs": [
    {
     "name": "stdout",
     "output_type": "stream",
     "text": [
      "did\n",
      "noon\n",
      "refer\n"
     ]
    }
   ],
   "source": [
    "# 28\n",
    "with open('words2.txt', 'r') as f:\n",
    "    a = f.read()\n",
    "a = a.split('\\n')\n",
    "for i in a:\n",
    "    if i == i[::-1] :\n",
    "        print(i)"
   ]
  },
  {
   "cell_type": "code",
   "execution_count": 6,
   "metadata": {},
   "outputs": [
    {
     "name": "stdout",
     "output_type": "stream",
     "text": [
      "덧셈: 30, 뺄셈: -10, 곱셈: 200, 나눗셈: 0.5\n"
     ]
    }
   ],
   "source": [
    "# 29\n",
    "x, y = map(int, input().split())\n",
    "def calc(x, y):\n",
    "    return x+y, x-y, x*y, x/y\n",
    "a, s, m, d = calc(x, y)\n",
    "print('덧셈: {0}, 뺄셈: {1}, 곱셈: {2}, 나눗셈: {3}'.format(a, s, m, d))\n"
   ]
  },
  {
   "cell_type": "code",
   "execution_count": 23,
   "metadata": {},
   "outputs": [
    {
     "name": "stdout",
     "output_type": "stream",
     "text": [
      "낮은 점수: 70.00, 높은 점수: 100.00, 평균 점수: 85.00\n",
      "낮은 점수: 80.00, 높은 점수: 100.00, 평균 점수: 90.00\n"
     ]
    }
   ],
   "source": [
    "# 30\n",
    "korean, english, mathematics, science = map(int, input().split())\n",
    "\n",
    "def get_min_max_score(*args):\n",
    "    return min(args), max(args)\n",
    "    \n",
    "def get_average(**kwargs):\n",
    "    return sum(kwargs.values())/len(kwargs)\n",
    "\n",
    "min_score, max_score = get_min_max_score(korean, english, mathematics, science)\n",
    "average_score = get_average(korean=korean, english=english, mathematics=mathematics, science=science)\n",
    "print('낮은 점수: {0:.2f}, 높은 점수: {1:.2f}, 평균 점수: {2:.2f}'.format(min_score, max_score, average_score))\n",
    " \n",
    "min_score, max_score = get_min_max_score(english, science)\n",
    "average_score = get_average(english=english, science=science)\n",
    "print('낮은 점수: {0:.2f}, 높은 점수: {1:.2f}, 평균 점수: {2:.2f}'.format(min_score, max_score, average_score))\n"
   ]
  },
  {
   "cell_type": "code",
   "execution_count": 15,
   "metadata": {},
   "outputs": [
    {
     "name": "stdout",
     "output_type": "stream",
     "text": [
      "55\n"
     ]
    }
   ],
   "source": [
    "# 31\n",
    "def fib(n):\n",
    "    if(n==0) :\n",
    "        return 0\n",
    "    elif(n==1 or n==2) :\n",
    "        return 1\n",
    "    return fib(n-1)+fib(n-2)\n",
    "n = int(input())\n",
    "print(fib(n))"
   ]
  },
  {
   "cell_type": "code",
   "execution_count": 6,
   "metadata": {},
   "outputs": [
    {
     "name": "stdout",
     "output_type": "stream",
     "text": [
      "['001.jpg', '010.png', '011.png', '002.jpg', '003.png']\n",
      "['001.jpg', '010.png', '011.png', '002.jpg', '003.png']\n"
     ]
    }
   ],
   "source": [
    "# 32\n",
    "\n",
    " # 1.jpg 10.png 11.png 2.jpg 3.png\n",
    "files = input().split()\n",
    " \n",
    "print(list(map(lambda x : '{0:03d}'.format(int(x.split('.')[0])) + '.' + x.split('.')[1],files)))\n",
    "print(list(map(lambda x: f\"{int(x.split('.')[0]):03d}.{x.split('.')[1]}\", files)))"
   ]
  },
  {
   "cell_type": "code",
   "execution_count": 9,
   "metadata": {},
   "outputs": [
    {
     "name": "stdout",
     "output_type": "stream",
     "text": [
      "['123', '123', '123'] ['abc', 'abc', 'abc']\n"
     ]
    }
   ],
   "source": [
    "#\n",
    "cars=['abc 123','abc 123','abc 123']\n",
    "list1=list(map(lambda car: car.split()[0], cars))\n",
    "list2=list(map(lambda car: car.split()[1], cars))\n",
    "\n",
    "# for car in cars:\n",
    "#     list1.append(car.split()[0])\n",
    "#     list2.append(car.split()[1])\n",
    "\n",
    "print(list2, list1)"
   ]
  },
  {
   "cell_type": "code",
   "execution_count": null,
   "metadata": {},
   "outputs": [],
   "source": []
  }
 ],
 "metadata": {
  "interpreter": {
   "hash": "0094501f3b0006488e906d4f89333eda809204133ac7d3552e2d5dc9af9e2d58"
  },
  "kernelspec": {
   "display_name": "Python 3.9.7 ('base')",
   "language": "python",
   "name": "python3"
  },
  "language_info": {
   "codemirror_mode": {
    "name": "ipython",
    "version": 3
   },
   "file_extension": ".py",
   "mimetype": "text/x-python",
   "name": "python",
   "nbconvert_exporter": "python",
   "pygments_lexer": "ipython3",
   "version": "3.9.7"
  },
  "orig_nbformat": 4
 },
 "nbformat": 4,
 "nbformat_minor": 2
}
