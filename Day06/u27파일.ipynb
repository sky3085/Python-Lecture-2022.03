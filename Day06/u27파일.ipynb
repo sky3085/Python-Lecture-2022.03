{
 "cells": [
  {
   "cell_type": "markdown",
   "metadata": {},
   "source": [
    "### Unit 27 File 파일\n",
    "#### 27.1 파일 읽기 쓰기(read/write)"
   ]
  },
  {
   "cell_type": "code",
   "execution_count": 2,
   "metadata": {},
   "outputs": [],
   "source": [
    "# 파일에 문자열 쓰기\n",
    "file = open('hello.txt', 'w') #hello.txt를 쓰기모드로 open\n",
    "file.write('Hello, world')#파일에 텍스트 작성\n",
    "file.write('안녕하세요.')\n",
    "file.close()\n"
   ]
  },
  {
   "cell_type": "code",
   "execution_count": 21,
   "metadata": {},
   "outputs": [],
   "source": [
    "file = open('hello.txt', 'w')#이전에 쓴 내용은 사라진다.\n",
    "file.write('Hello, world\\n')\n",
    "file.write('안녕하세요.')\n",
    "file.close()\n"
   ]
  },
  {
   "cell_type": "markdown",
   "metadata": {},
   "source": [
    "- 파일로부터 텍스트 읽기"
   ]
  },
  {
   "cell_type": "code",
   "execution_count": 17,
   "metadata": {},
   "outputs": [
    {
     "name": "stdout",
     "output_type": "stream",
     "text": [
      "Hello, world\n",
      "안녕하세요.\n"
     ]
    }
   ],
   "source": [
    "file = open('hello.txt', 'r')# 디폴트 값은 read이다.\n",
    "# file = open('hello.txt')\n",
    "#print(file)#파일정보를 가져온다\n",
    "text = file.read()#크기 정보를 안주면 전부를 읽어온다.\n",
    "file.close()\n",
    "print(text)"
   ]
  },
  {
   "cell_type": "markdown",
   "metadata": {},
   "source": [
    "- Python style(with) : auto close"
   ]
  },
  {
   "cell_type": "code",
   "execution_count": 18,
   "metadata": {},
   "outputs": [
    {
     "name": "stdout",
     "output_type": "stream",
     "text": [
      "Hello, world\n",
      "안녕하세요.\n"
     ]
    }
   ],
   "source": [
    "with open('hello.txt') as file :\n",
    "    text = file.read()\n",
    "print(text)"
   ]
  },
  {
   "cell_type": "code",
   "execution_count": 22,
   "metadata": {},
   "outputs": [],
   "source": [
    "with open('hello.txt', 'w') as file :\n",
    "    for i in range(3):\n",
    "        file.write(f'Hello,world! {i}\\n')"
   ]
  },
  {
   "cell_type": "code",
   "execution_count": 27,
   "metadata": {},
   "outputs": [],
   "source": [
    "fr = ['apple\\n', 'banana\\n']\n",
    "with open('hello.txt', 'w') as f :\n",
    "    f.writelines(fr)#리스트에 들어있는 문자열을 씁니다. 단 각 문자열 끝에 개행문자가 있어야 합니다."
   ]
  },
  {
   "cell_type": "code",
   "execution_count": 31,
   "metadata": {},
   "outputs": [
    {
     "name": "stdout",
     "output_type": "stream",
     "text": [
      "['apple\\n', 'banana\\n']\n",
      "apple\n",
      "banana\n"
     ]
    }
   ],
   "source": [
    "#readlines로 파일의 내용을 한 줄씩 리스트로 가져옵니다!\n",
    "with open('hello.txt') as f :\n",
    "    lines = f.readlines()\n",
    "print(lines)\n",
    "for l in lines :\n",
    "    print(l, end='')"
   ]
  },
  {
   "cell_type": "markdown",
   "metadata": {},
   "source": [
    "- 경로명 지정, 디렉토리 만들기"
   ]
  },
  {
   "cell_type": "code",
   "execution_count": 33,
   "metadata": {},
   "outputs": [],
   "source": [
    "# data 디렉토리가 있는지 확인, 없으면 만들어주기\n",
    "import os\n",
    "if not os.path.exists('data'):\n",
    "    os.mkdir('data')"
   ]
  },
  {
   "cell_type": "code",
   "execution_count": 34,
   "metadata": {},
   "outputs": [
    {
     "data": {
      "text/plain": [
       "True"
      ]
     },
     "execution_count": 34,
     "metadata": {},
     "output_type": "execute_result"
    }
   ],
   "source": [
    "os.path.exists('data')#상대경로"
   ]
  },
  {
   "cell_type": "code",
   "execution_count": 41,
   "metadata": {},
   "outputs": [],
   "source": [
    "data_file='data/hello.txt'\n",
    "file = open(data_file, 'w')\n",
    "file.write('Hello world!\\n')\n",
    "file.write('안녕하세요?')\n",
    "file.close()"
   ]
  },
  {
   "cell_type": "code",
   "execution_count": 42,
   "metadata": {},
   "outputs": [],
   "source": [
    "with open(data_file, 'w') as f :\n",
    "    f.write('Hello python!\\n')\n",
    "    f.write('안녕하세요?')"
   ]
  },
  {
   "cell_type": "code",
   "execution_count": 43,
   "metadata": {},
   "outputs": [],
   "source": [
    "# with open('hello.txt', 'w', encoding='euc-kr') as file: #euc-kr로 인코딩\n",
    "#       file.write('')"
   ]
  },
  {
   "cell_type": "markdown",
   "metadata": {},
   "source": [
    "- 27.3 파이썬 객체 저장 /로드"
   ]
  },
  {
   "cell_type": "code",
   "execution_count": 45,
   "metadata": {},
   "outputs": [],
   "source": [
    "import pickle\n",
    "person = {'name' : 'james', 'age' : 17}\n",
    "with open('person.pkl', 'wb') as file :#2진수로 저장\n",
    "    pickle.dump(person, file)"
   ]
  },
  {
   "cell_type": "code",
   "execution_count": 46,
   "metadata": {},
   "outputs": [
    {
     "data": {
      "text/plain": [
       "{'name': 'james', 'age': 17}"
      ]
     },
     "execution_count": 46,
     "metadata": {},
     "output_type": "execute_result"
    }
   ],
   "source": [
    "with open('person.pkl', 'rb') as file :\n",
    "    james = pickle.load(file)\n",
    "james"
   ]
  },
  {
   "cell_type": "code",
   "execution_count": 47,
   "metadata": {},
   "outputs": [
    {
     "data": {
      "text/plain": [
       "{'name': 'james', 'age': 17}"
      ]
     },
     "execution_count": 47,
     "metadata": {},
     "output_type": "execute_result"
    }
   ],
   "source": [
    "#파일 오픈이 필요없는 라이브러리도 있다.\n",
    "import joblib\n",
    "joblib.dump(person, 'person.jl')\n",
    "james = joblib.load('person.jl')\n",
    "james"
   ]
  },
  {
   "cell_type": "code",
   "execution_count": 50,
   "metadata": {},
   "outputs": [
    {
     "data": {
      "text/plain": [
       "'text file'"
      ]
     },
     "execution_count": 50,
     "metadata": {},
     "output_type": "execute_result"
    }
   ],
   "source": [
    "import joblib\n",
    "joblib.dump('text file', 'person.jl')\n",
    "james = joblib.load('person.jl')\n",
    "james"
   ]
  },
  {
   "cell_type": "code",
   "execution_count": null,
   "metadata": {},
   "outputs": [],
   "source": []
  }
 ],
 "metadata": {
  "interpreter": {
   "hash": "0094501f3b0006488e906d4f89333eda809204133ac7d3552e2d5dc9af9e2d58"
  },
  "kernelspec": {
   "display_name": "Python 3.9.7 ('base')",
   "language": "python",
   "name": "python3"
  },
  "language_info": {
   "codemirror_mode": {
    "name": "ipython",
    "version": 3
   },
   "file_extension": ".py",
   "mimetype": "text/x-python",
   "name": "python",
   "nbconvert_exporter": "python",
   "pygments_lexer": "ipython3",
   "version": "3.9.7"
  },
  "orig_nbformat": 4
 },
 "nbformat": 4,
 "nbformat_minor": 2
}
