{
 "cells": [
  {
   "cell_type": "code",
   "execution_count": 11,
   "metadata": {},
   "outputs": [
    {
     "name": "stdout",
     "output_type": "stream",
     "text": [
      "티버: 피해량 406.5\n"
     ]
    }
   ],
   "source": [
    "# 34심사문제\n",
    "class Annie:\n",
    "    def __init__(self, health, mana, ability_power):\n",
    "        self.health=health\n",
    "        self.mana=mana\n",
    "        self.ability_power=ability_power\n",
    "    def tibbers(self):\n",
    "        print(f'티버: 피해량 {self.ability_power*0.65+400}')\n",
    "health, mana, ability_power = map(float, input().split())\n",
    " \n",
    "x = Annie(health=health, mana=mana, ability_power=ability_power)\n",
    "x.tibbers()\n"
   ]
  },
  {
   "cell_type": "code",
   "execution_count": 15,
   "metadata": {},
   "outputs": [
    {
     "name": "stdout",
     "output_type": "stream",
     "text": [
      "티버: 피해량 419.5\n"
     ]
    }
   ],
   "source": [
    "#다르게 인자를 받는 방법\n",
    "class Annie:\n",
    "    def __init__(self, **kwargs):\n",
    "        self.health=kwargs['health']\n",
    "        self.mana=kwargs['mana']\n",
    "        self.ability_power=kwargs['ability_power']\n",
    "    def tibbers(self):\n",
    "        print(f'티버: 피해량 {self.ability_power*0.65+400}')\n",
    "health, mana, ability_power = map(float, input().split())\n",
    " \n",
    "x = Annie(health=health, mana=mana, ability_power=ability_power)\n",
    "x.tibbers()"
   ]
  },
  {
   "cell_type": "code",
   "execution_count": 12,
   "metadata": {},
   "outputs": [
    {
     "name": "stdout",
     "output_type": "stream",
     "text": [
      "8\n",
      "2\n",
      "15\n",
      "1.6666666666666667\n",
      "5\n",
      "5\n",
      "0\n",
      "0으로 나눌 수 없습니다.\n"
     ]
    }
   ],
   "source": [
    "# 연습문제 1\n",
    "\n",
    "class Calculator:\n",
    "    def __init__(self, num1, num2):\n",
    "        self.num1 = num1\n",
    "        self.num2 = num2\n",
    "    def add(self):\n",
    "        print(self.num1+self.num2)\n",
    "    def sub(self):\n",
    "        print(self.num1-self.num2)\n",
    "    def mul(self):\n",
    "        print(self.num1*self.num2)\n",
    "    def div(self):\n",
    "        if(self.num2 ==0):\n",
    "            print('0으로 나눌 수 없습니다.')\n",
    "        else:\n",
    "            print(self.num1/self.num2)\n",
    "\n",
    "cal = Calculator(5,3)\n",
    "cal.add()\n",
    "cal.sub()\n",
    "cal.mul()\n",
    "cal.div()\n",
    "\n",
    "cal2 = Calculator(5,0)\n",
    "cal2.add()\n",
    "cal2.sub()\n",
    "cal2.mul()\n",
    "cal2.div()\n"
   ]
  },
  {
   "cell_type": "code",
   "execution_count": 9,
   "metadata": {},
   "outputs": [
    {
     "name": "stdout",
     "output_type": "stream",
     "text": [
      "ano : 123456, owner : Moon, balance : 900000\n",
      "입금할 수 없습니다.\n"
     ]
    }
   ],
   "source": [
    "class Account():\n",
    "    def __init__(self, ano, owner, bal):\n",
    "        self.ano= ano\n",
    "        self.owner = owner\n",
    "        self.bal = bal\n",
    "    def deposit(self, amount):\n",
    "        if(self.bal >= 10000000):\n",
    "            print('입금할 수 없습니다.')\n",
    "        else:\n",
    "            self.bal += amount\n",
    "    def withdraw(self, amount):\n",
    "        if(self.bal < 0 or self.bal < amount):\n",
    "            print('출금할 수 없습니다.')\n",
    "        else:\n",
    "            self.bal -= amount\n",
    "    def __str__(self):\n",
    "        return f'ano : {self.ano}, owner : {self.owner}, balance : {self.bal}'\n",
    "myAcc1 = Account('123456', 'Moon', 1000)\n",
    "myAcc1.deposit(900000)\n",
    "myAcc1.withdraw(1000)\n",
    "print(myAcc1)\n",
    "myAcc1.deposit(100000000000)\n",
    "myAcc1.deposit(100000000000)\n",
    "\n"
   ]
  },
  {
   "cell_type": "code",
   "execution_count": null,
   "metadata": {},
   "outputs": [],
   "source": []
  }
 ],
 "metadata": {
  "interpreter": {
   "hash": "0094501f3b0006488e906d4f89333eda809204133ac7d3552e2d5dc9af9e2d58"
  },
  "kernelspec": {
   "display_name": "Python 3.9.7 ('base')",
   "language": "python",
   "name": "python3"
  },
  "language_info": {
   "codemirror_mode": {
    "name": "ipython",
    "version": 3
   },
   "file_extension": ".py",
   "mimetype": "text/x-python",
   "name": "python",
   "nbconvert_exporter": "python",
   "pygments_lexer": "ipython3",
   "version": "3.9.7"
  },
  "orig_nbformat": 4
 },
 "nbformat": 4,
 "nbformat_minor": 2
}
