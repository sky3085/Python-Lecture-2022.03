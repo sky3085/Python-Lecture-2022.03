{
 "cells": [
  {
   "cell_type": "markdown",
   "metadata": {},
   "source": [
    "### Unit 34 클래스 사용하기\n",
    "#### 34.1 클래스와 메서드 만들기\n",
    "<pre>\n",
    "객체(object)\n",
    "    -속성(attribute) : 제조사, 모델, 베기량\n",
    "    -행위(method) : 전진, 후진, 감속, 경적\n",
    "\n",
    "특징\n",
    "1. 상속(Inheritance)    \n",
    "    -자식이 부모를 선택해서 상속을 받는다.\n",
    "    -부모의 속성값, 메소드를 상속 받는다.\n",
    "2. 캡슐화(Encapsulation)\n",
    "    -데이터를 보호\n",
    "3. 다형성(Polymorphism)\n",
    "    -부모가 만들어 놓은 메소드를 자식이 내 기능에 맞게 변경하는것\n",
    "    -method overriding(overloading)\n",
    "</pre>"
   ]
  },
  {
   "cell_type": "code",
   "execution_count": 2,
   "metadata": {},
   "outputs": [],
   "source": [
    "class Person:#클래스 이름은 대문자로 시작\n",
    "    def greeting(self):#메소드의 첫번째 인자는 무조건 self\n",
    "        print('Hello')\n",
    "\n",
    "james = Person() # 생성자 Constructor 함수\n",
    "maria = Person()"
   ]
  },
  {
   "cell_type": "code",
   "execution_count": 5,
   "metadata": {},
   "outputs": [
    {
     "name": "stdout",
     "output_type": "stream",
     "text": [
      "Hello\n",
      "Hello\n"
     ]
    },
    {
     "data": {
      "text/plain": [
       "(None, None)"
      ]
     },
     "execution_count": 5,
     "metadata": {},
     "output_type": "execute_result"
    }
   ],
   "source": [
    "james.greeting(), maria.greeting()"
   ]
  },
  {
   "cell_type": "code",
   "execution_count": 6,
   "metadata": {},
   "outputs": [
    {
     "name": "stdout",
     "output_type": "stream",
     "text": [
      "Hello\n"
     ]
    }
   ],
   "source": [
    "class Person:\n",
    "    def greeting(self):\n",
    "        print('Hello')\n",
    "    def hello(self):\n",
    "        self.greeting()#클래스 내에서 속성이나 메소드를 참조할떄는 self.x를 이용한다.\n",
    "\n",
    "Person().hello()"
   ]
  },
  {
   "cell_type": "code",
   "execution_count": 1,
   "metadata": {},
   "outputs": [
    {
     "name": "stdout",
     "output_type": "stream",
     "text": [
      "None 24\n"
     ]
    }
   ],
   "source": [
    "def factorial(n):\n",
    "    if not isinstance(n, int) or n < 0:\n",
    "        return None\n",
    "    if n == 0:\n",
    "        return 1\n",
    "    return n * factorial(n-1)\n",
    "\n",
    "a=factorial(-3)\n",
    "b=factorial(4)\n",
    "print(a, b)\n"
   ]
  },
  {
   "cell_type": "markdown",
   "metadata": {},
   "source": [
    "#### 34.2 속성"
   ]
  },
  {
   "cell_type": "code",
   "execution_count": 6,
   "metadata": {},
   "outputs": [
    {
     "name": "stdout",
     "output_type": "stream",
     "text": [
      "Hello python\n"
     ]
    }
   ],
   "source": [
    "class Person:\n",
    "    def __init__(self):\n",
    "        self.hello='안녕하세요!'#속성을 만들때는 init메서드 안에 self와 함께 선언해야 한다.\n",
    "    def greeting(self):\n",
    "        print(self.hello)\n",
    "jav = Person()\n",
    "jav.hello='Hello python'\n",
    "jav.greeting()"
   ]
  },
  {
   "cell_type": "code",
   "execution_count": 11,
   "metadata": {},
   "outputs": [
    {
     "name": "stdout",
     "output_type": "stream",
     "text": [
      "안녕하세요. 저는 Moon 입니다.\n",
      "hello=안녕하세요. name=Moon\n"
     ]
    }
   ],
   "source": [
    "class Person:\n",
    "    def __init__(self, name, age, address):\n",
    "        self.hello=\"안녕하세요.\"\n",
    "        self.name=name\n",
    "        self.age=age\n",
    "        self.address=address\n",
    "    def greeting(self):\n",
    "        print(f'{self.hello} 저는 {self.name} 입니다.')\n",
    "    def __str__(self):# Java의 toStirng 역할\n",
    "        return f'hello={self.hello} name={self.name}'\n",
    "a = Person('Moon', 27, '호평동')\n",
    "a.greeting()\n",
    "print(a)"
   ]
  },
  {
   "cell_type": "code",
   "execution_count": 6,
   "metadata": {},
   "outputs": [],
   "source": [
    "class Person:\n",
    "    def __init__(self, name, age, address, wallet):\n",
    "        self.name=name\n",
    "        self.age=age\n",
    "        self.address=address\n",
    "        self.__wallet=wallet#메소드나 속성에 __를 붙이면 클래스 내에서만 접근이 가능하다.\n",
    "    def pay(self, amount):\n",
    "        if self.__wallet < amount :\n",
    "            print('지갑에 돈이 부족합니다.')\n",
    "            return\n",
    "        self.__wallet -= amount\n",
    "        print(f'지갑에 남은 돈은 {self.__wallet:,d}원 입니다.')\n",
    "    def __greeting(self):\n",
    "        print('Hello')\n",
    "    def hello(self):\n",
    "        self.__greeting()\n",
    "james = Person('james', 25, '서초구', 100000)\n",
    "#james.__wallet\n"
   ]
  },
  {
   "cell_type": "code",
   "execution_count": 5,
   "metadata": {},
   "outputs": [
    {
     "name": "stdout",
     "output_type": "stream",
     "text": [
      "지갑에 남은 돈은 80,000원 입니다.\n",
      "지갑에 돈이 부족합니다.\n"
     ]
    }
   ],
   "source": [
    "james.pay(10000)\n",
    "james.pay(100000)"
   ]
  },
  {
   "cell_type": "code",
   "execution_count": 7,
   "metadata": {},
   "outputs": [
    {
     "ename": "AttributeError",
     "evalue": "'Person' object has no attribute '__greeting'",
     "output_type": "error",
     "traceback": [
      "\u001b[1;31m---------------------------------------------------------------------------\u001b[0m",
      "\u001b[1;31mAttributeError\u001b[0m                            Traceback (most recent call last)",
      "\u001b[1;32m~\\AppData\\Local\\Temp/ipykernel_21532/2779089592.py\u001b[0m in \u001b[0;36m<module>\u001b[1;34m\u001b[0m\n\u001b[0;32m      1\u001b[0m \u001b[1;31m# 비공개메소드\u001b[0m\u001b[1;33m\u001b[0m\u001b[1;33m\u001b[0m\u001b[0m\n\u001b[1;32m----> 2\u001b[1;33m \u001b[0mjames\u001b[0m\u001b[1;33m.\u001b[0m\u001b[0m__greeting\u001b[0m\u001b[1;33m(\u001b[0m\u001b[1;33m)\u001b[0m\u001b[1;33m\u001b[0m\u001b[1;33m\u001b[0m\u001b[0m\n\u001b[0m",
      "\u001b[1;31mAttributeError\u001b[0m: 'Person' object has no attribute '__greeting'"
     ]
    }
   ],
   "source": [
    "# 비공개메소드\n",
    "james.__greeting()\n"
   ]
  },
  {
   "cell_type": "code",
   "execution_count": 12,
   "metadata": {},
   "outputs": [
    {
     "name": "stdout",
     "output_type": "stream",
     "text": [
      "요금은1250이고, 잔액은198750 남았습니다.\n",
      "198750 남았습니다.\n"
     ]
    }
   ],
   "source": [
    "class Tmoney:\n",
    "    def __init__(self, age, bal):\n",
    "        self.age = age\n",
    "        self.bal = bal\n",
    "    def pay(self):\n",
    "        if(self.age<=12):#7이상만 입력된다고 가정하였으므로\n",
    "            fare=650\n",
    "        elif(self.age<=18):\n",
    "            fare=1050\n",
    "        else:\n",
    "            fare=1250\n",
    "        if self.bal < fare :\n",
    "            print('요금이 부족합니다.')\n",
    "        else:\n",
    "            self.bal -= fare\n",
    "            print(f'요금은{fare}이고, 잔액은{self.bal} 남았습니다.')\n",
    "\n",
    "    def __str__(self):\n",
    "        return f'{self.bal} 남았습니다.'#리턴으로 반환할것!\n",
    "\n",
    "myT = Tmoney(20, 200000)\n",
    "myT.pay()\n",
    "print(myT)\n",
    "\n"
   ]
  },
  {
   "cell_type": "code",
   "execution_count": null,
   "metadata": {},
   "outputs": [],
   "source": []
  }
 ],
 "metadata": {
  "interpreter": {
   "hash": "0094501f3b0006488e906d4f89333eda809204133ac7d3552e2d5dc9af9e2d58"
  },
  "kernelspec": {
   "display_name": "Python 3.9.7 ('base')",
   "language": "python",
   "name": "python3"
  },
  "language_info": {
   "codemirror_mode": {
    "name": "ipython",
    "version": 3
   },
   "file_extension": ".py",
   "mimetype": "text/x-python",
   "name": "python",
   "nbconvert_exporter": "python",
   "pygments_lexer": "ipython3",
   "version": "3.9.7"
  },
  "orig_nbformat": 4
 },
 "nbformat": 4,
 "nbformat_minor": 2
}
