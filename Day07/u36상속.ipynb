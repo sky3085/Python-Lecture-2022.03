{
 "cells": [
  {
   "cell_type": "markdown",
   "metadata": {},
   "source": [
    "### Unit36 클래스 상속 사용하기\n",
    "#### 36.1 상속"
   ]
  },
  {
   "cell_type": "code",
   "execution_count": 13,
   "metadata": {},
   "outputs": [
    {
     "name": "stdout",
     "output_type": "stream",
     "text": [
      "Study\n",
      "Hello\n"
     ]
    }
   ],
   "source": [
    "# 기반 클래스\n",
    "class Person:\n",
    "    def greeting(self):\n",
    "        print('Hello')\n",
    "    def __str__(self):\n",
    "        return 'Hello'\n",
    "\n",
    "# 파생 클래스        \n",
    "class Student(Person):\n",
    "    def study(self):\n",
    "        print('Study')\n",
    "ja = Student()\n",
    "ja.study()\n",
    "ja.greeting()#기반 클래스의 메소드 사용가능\n"
   ]
  },
  {
   "cell_type": "code",
   "execution_count": 20,
   "metadata": {},
   "outputs": [
    {
     "data": {
      "text/plain": [
       "'hi'"
      ]
     },
     "execution_count": 20,
     "metadata": {},
     "output_type": "execute_result"
    }
   ],
   "source": [
    "#포함관계\n",
    "class Person:\n",
    "    def __init__(self, name):\n",
    "        self.name=name\n",
    "        \n",
    "    def greeting(self):\n",
    "        print('Hello')\n",
    "    def __str__(self):\n",
    "        return 'Hello'\n",
    "        \n",
    "class PersonList:\n",
    "    def __init__(self):\n",
    "        self.person_list=[]\n",
    "    def append_person(self, person):\n",
    "        self.person_list.append(person)\n",
    "\n",
    "my_frined =PersonList()\n",
    "ja = Person('hi')\n",
    "ja2 = Person('Moon')\n",
    "my_frined.append_person(ja)\n",
    "my_frined.append_person(ja2)\n",
    "\n",
    "my_frined.person_list[0].name"
   ]
  },
  {
   "cell_type": "code",
   "execution_count": 15,
   "metadata": {},
   "outputs": [
    {
     "name": "stdout",
     "output_type": "stream",
     "text": [
      "Student __init__\n",
      "파이썬 코딩 도장\n"
     ]
    },
    {
     "ename": "AttributeError",
     "evalue": "'Student' object has no attribute 'hello'",
     "output_type": "error",
     "traceback": [
      "\u001b[1;31m---------------------------------------------------------------------------\u001b[0m",
      "\u001b[1;31mAttributeError\u001b[0m                            Traceback (most recent call last)",
      "\u001b[1;32m~\\AppData\\Local\\Temp/ipykernel_16980/2002133408.py\u001b[0m in \u001b[0;36m<module>\u001b[1;34m\u001b[0m\n\u001b[0;32m     11\u001b[0m \u001b[0mjames\u001b[0m \u001b[1;33m=\u001b[0m \u001b[0mStudent\u001b[0m\u001b[1;33m(\u001b[0m\u001b[1;33m)\u001b[0m\u001b[1;33m\u001b[0m\u001b[1;33m\u001b[0m\u001b[0m\n\u001b[0;32m     12\u001b[0m \u001b[0mprint\u001b[0m\u001b[1;33m(\u001b[0m\u001b[0mjames\u001b[0m\u001b[1;33m.\u001b[0m\u001b[0mschool\u001b[0m\u001b[1;33m)\u001b[0m\u001b[1;33m\u001b[0m\u001b[1;33m\u001b[0m\u001b[0m\n\u001b[1;32m---> 13\u001b[1;33m \u001b[0mprint\u001b[0m\u001b[1;33m(\u001b[0m\u001b[0mjames\u001b[0m\u001b[1;33m.\u001b[0m\u001b[0mhello\u001b[0m\u001b[1;33m)\u001b[0m\u001b[1;33m\u001b[0m\u001b[1;33m\u001b[0m\u001b[0m\n\u001b[0m",
      "\u001b[1;31mAttributeError\u001b[0m: 'Student' object has no attribute 'hello'"
     ]
    }
   ],
   "source": [
    "class Person:\n",
    "    def __init__(self):\n",
    "        print('Person __init__')\n",
    "        self.hello = '안녕하세요.'\n",
    " \n",
    "class Student(Person):\n",
    "    def __init__(self):\n",
    "        print('Student __init__')\n",
    "        self.school = '파이썬 코딩 도장'\n",
    " \n",
    "james = Student()\n",
    "print(james.school)\n",
    "print(james.hello)#기반 클래스의 속성 사용시 에러"
   ]
  },
  {
   "cell_type": "code",
   "execution_count": 21,
   "metadata": {},
   "outputs": [
    {
     "name": "stdout",
     "output_type": "stream",
     "text": [
      "파이썬 코딩 도장\n",
      "안녕하세요.\n"
     ]
    }
   ],
   "source": [
    "class Person:\n",
    "    def __init__(self):\n",
    "        #print('Person __init__')\n",
    "        self.hello = '안녕하세요.'\n",
    " \n",
    "class Student(Person):\n",
    "    def __init__(self):\n",
    "        #print('Student __init__')\n",
    "        super().__init__()\n",
    "        self.school = '파이썬 코딩 도장'\n",
    " \n",
    "james = Student()\n",
    "print(james.school)\n",
    "print(james.hello)"
   ]
  },
  {
   "cell_type": "code",
   "execution_count": 25,
   "metadata": {},
   "outputs": [
    {
     "name": "stdout",
     "output_type": "stream",
     "text": [
      "안녕하세요 저는 파이썬 코딩 도장 학생입니다.\n"
     ]
    }
   ],
   "source": [
    "#method overriding\n",
    "class Person:\n",
    "    def greeting(self):\n",
    "        print('안녕하세요')\n",
    "class Student(Person):\n",
    "    def greeting(self):\n",
    "        print('안녕하세요 저는 파이썬 코딩 도장 학생입니다.')\n",
    "\n",
    "s1 = Student()\n",
    "s1.greeting()#Person의 greeting메소드를 재정의 하였다.\n",
    "# 오버라이딩은 원래의 기능을 유지하면서 새로운 기능을 덧붙일때 사용한다."
   ]
  },
  {
   "cell_type": "code",
   "execution_count": 29,
   "metadata": {},
   "outputs": [
    {
     "ename": "TypeError",
     "evalue": "Can't instantiate abstract class Student with abstract method go_to_school",
     "output_type": "error",
     "traceback": [
      "\u001b[1;31m---------------------------------------------------------------------------\u001b[0m",
      "\u001b[1;31mTypeError\u001b[0m                                 Traceback (most recent call last)",
      "\u001b[1;32m~\\AppData\\Local\\Temp/ipykernel_16980/3356137305.py\u001b[0m in \u001b[0;36m<module>\u001b[1;34m\u001b[0m\n\u001b[0;32m     17\u001b[0m     \u001b[1;31m#추상클래스를 상속받았으면 모든 메소드를 구현해야한다.\u001b[0m\u001b[1;33m\u001b[0m\u001b[1;33m\u001b[0m\u001b[0m\n\u001b[0;32m     18\u001b[0m \u001b[1;33m\u001b[0m\u001b[0m\n\u001b[1;32m---> 19\u001b[1;33m \u001b[0mjames\u001b[0m \u001b[1;33m=\u001b[0m \u001b[0mStudent\u001b[0m\u001b[1;33m(\u001b[0m\u001b[1;33m)\u001b[0m\u001b[1;33m\u001b[0m\u001b[1;33m\u001b[0m\u001b[0m\n\u001b[0m",
      "\u001b[1;31mTypeError\u001b[0m: Can't instantiate abstract class Student with abstract method go_to_school"
     ]
    }
   ],
   "source": [
    "# 추상클래스 - 인터페이스\n",
    "# 추상 클래스는 메서드의 목록만 가진 클래스이며 상속받는 클래스에서 메서드 구현을 강제하기 위해 사용합니다.\n",
    "\n",
    "from abc import *#abc는 abstract base class의 약자입니다.\n",
    "\n",
    "class StudentBase(metaclass=ABCMeta):\n",
    "    @abstractmethod\n",
    "    def study(self):\n",
    "        pass\n",
    "    @abstractmethod\n",
    "    def go_to_school(self):\n",
    "        pass\n",
    "\n",
    "class Student(StudentBase):\n",
    "    def study(self):\n",
    "        print('공부하기')\n",
    "    #추상클래스를 상속받았으면 모든 메소드를 구현해야한다.\n",
    "    \n",
    "james = Student()"
   ]
  },
  {
   "cell_type": "code",
   "execution_count": 28,
   "metadata": {},
   "outputs": [
    {
     "name": "stdout",
     "output_type": "stream",
     "text": [
      "공부하기\n",
      "학교갑니다.\n"
     ]
    }
   ],
   "source": [
    "from abc import *#abc는 abstract base class의 약자입니다.\n",
    "\n",
    "class StudentBase(metaclass=ABCMeta):\n",
    "    @abstractmethod\n",
    "    def study(self):\n",
    "        pass\n",
    "    @abstractmethod\n",
    "    def go_to_school(self):\n",
    "        pass\n",
    "\n",
    "class Student(StudentBase):\n",
    "    def study(self):\n",
    "        print('공부하기')\n",
    "    def go_to_school(self):\n",
    "        print('학교갑니다.')\n",
    "    \n",
    "    \n",
    "james = Student()\n",
    "james.study()\n",
    "james.go_to_school()"
   ]
  },
  {
   "cell_type": "code",
   "execution_count": null,
   "metadata": {},
   "outputs": [],
   "source": []
  }
 ],
 "metadata": {
  "interpreter": {
   "hash": "0094501f3b0006488e906d4f89333eda809204133ac7d3552e2d5dc9af9e2d58"
  },
  "kernelspec": {
   "display_name": "Python 3.9.7 ('base')",
   "language": "python",
   "name": "python3"
  },
  "language_info": {
   "codemirror_mode": {
    "name": "ipython",
    "version": 3
   },
   "file_extension": ".py",
   "mimetype": "text/x-python",
   "name": "python",
   "nbconvert_exporter": "python",
   "pygments_lexer": "ipython3",
   "version": "3.9.7"
  },
  "orig_nbformat": 4
 },
 "nbformat": 4,
 "nbformat_minor": 2
}
